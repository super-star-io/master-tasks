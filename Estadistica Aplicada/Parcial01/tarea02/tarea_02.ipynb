{
 "cells": [
  {
   "cell_type": "code",
   "execution_count": 2,
   "id": "94ba78fb",
   "metadata": {},
   "outputs": [
    {
     "name": "stderr",
     "output_type": "stream",
     "text": [
      "C:\\Users\\crasc\\AppData\\Local\\Packages\\PythonSoftwareFoundation.Python.3.11_qbz5n2kfra8p0\\LocalCache\\local-packages\\Python311\\site-packages\\tqdm\\auto.py:21: TqdmWarning: IProgress not found. Please update jupyter and ipywidgets. See https://ipywidgets.readthedocs.io/en/stable/user_install.html\n",
      "  from .autonotebook import tqdm as notebook_tqdm\n"
     ]
    },
    {
     "data": {
      "text/html": [
       "\n",
       "            <div>\n",
       "                <ins><a href=\"https://ydata.ai/register\">Upgrade to ydata-sdk</a></ins>\n",
       "                <p>\n",
       "                    Improve your data and profiling with ydata-sdk, featuring data quality scoring, redundancy detection, outlier identification, text validation, and synthetic data generation.\n",
       "                </p>\n",
       "            </div>\n",
       "            "
      ],
      "text/plain": [
       "<IPython.core.display.HTML object>"
      ]
     },
     "metadata": {},
     "output_type": "display_data"
    },
    {
     "data": {
      "text/html": [
       "<div>\n",
       "<style scoped>\n",
       "    .dataframe tbody tr th:only-of-type {\n",
       "        vertical-align: middle;\n",
       "    }\n",
       "\n",
       "    .dataframe tbody tr th {\n",
       "        vertical-align: top;\n",
       "    }\n",
       "\n",
       "    .dataframe thead th {\n",
       "        text-align: right;\n",
       "    }\n",
       "</style>\n",
       "<table border=\"1\" class=\"dataframe\">\n",
       "  <thead>\n",
       "    <tr style=\"text-align: right;\">\n",
       "      <th></th>\n",
       "      <th>Make</th>\n",
       "      <th>Model</th>\n",
       "      <th>Year</th>\n",
       "      <th>Mileage</th>\n",
       "      <th>Condition</th>\n",
       "      <th>Price</th>\n",
       "    </tr>\n",
       "  </thead>\n",
       "  <tbody>\n",
       "    <tr>\n",
       "      <th>0</th>\n",
       "      <td>Ford</td>\n",
       "      <td>Silverado</td>\n",
       "      <td>2022.0</td>\n",
       "      <td>18107.0</td>\n",
       "      <td>Excellent</td>\n",
       "      <td>19094.75</td>\n",
       "    </tr>\n",
       "    <tr>\n",
       "      <th>1</th>\n",
       "      <td>Toyota</td>\n",
       "      <td>Silverado</td>\n",
       "      <td>2014.0</td>\n",
       "      <td>13578.0</td>\n",
       "      <td>Excellent</td>\n",
       "      <td>27321.10</td>\n",
       "    </tr>\n",
       "    <tr>\n",
       "      <th>2</th>\n",
       "      <td>Chevrolet</td>\n",
       "      <td>Civic</td>\n",
       "      <td>2016.0</td>\n",
       "      <td>46054.0</td>\n",
       "      <td>Good</td>\n",
       "      <td>23697.30</td>\n",
       "    </tr>\n",
       "    <tr>\n",
       "      <th>3</th>\n",
       "      <td>Ford</td>\n",
       "      <td>Civic</td>\n",
       "      <td>2022.0</td>\n",
       "      <td>34981.0</td>\n",
       "      <td>Excellent</td>\n",
       "      <td>18251.05</td>\n",
       "    </tr>\n",
       "    <tr>\n",
       "      <th>4</th>\n",
       "      <td>Chevrolet</td>\n",
       "      <td>Civic</td>\n",
       "      <td>2019.0</td>\n",
       "      <td>63565.0</td>\n",
       "      <td>Excellent</td>\n",
       "      <td>19821.85</td>\n",
       "    </tr>\n",
       "    <tr>\n",
       "      <th>5</th>\n",
       "      <td>Ford</td>\n",
       "      <td>Silverado</td>\n",
       "      <td>2013.0</td>\n",
       "      <td>23600.0</td>\n",
       "      <td>Excellent</td>\n",
       "      <td>27820.00</td>\n",
       "    </tr>\n",
       "    <tr>\n",
       "      <th>6</th>\n",
       "      <td>Chevrolet</td>\n",
       "      <td>Silverado</td>\n",
       "      <td>2015.0</td>\n",
       "      <td>89471.0</td>\n",
       "      <td>Good</td>\n",
       "      <td>22526.55</td>\n",
       "    </tr>\n",
       "    <tr>\n",
       "      <th>7</th>\n",
       "      <td>Ford</td>\n",
       "      <td>Camry</td>\n",
       "      <td>2014.0</td>\n",
       "      <td>121298.0</td>\n",
       "      <td>Good</td>\n",
       "      <td>21935.10</td>\n",
       "    </tr>\n",
       "    <tr>\n",
       "      <th>8</th>\n",
       "      <td>Ford</td>\n",
       "      <td>Altima</td>\n",
       "      <td>2016.0</td>\n",
       "      <td>110691.0</td>\n",
       "      <td>Excellent</td>\n",
       "      <td>20465.45</td>\n",
       "    </tr>\n",
       "    <tr>\n",
       "      <th>9</th>\n",
       "      <td>Toyota</td>\n",
       "      <td>Altima</td>\n",
       "      <td>2019.0</td>\n",
       "      <td>112693.0</td>\n",
       "      <td>Excellent</td>\n",
       "      <td>17365.45</td>\n",
       "    </tr>\n",
       "  </tbody>\n",
       "</table>\n",
       "</div>"
      ],
      "text/plain": [
       "        Make      Model    Year   Mileage  Condition     Price\n",
       "0       Ford  Silverado  2022.0   18107.0  Excellent  19094.75\n",
       "1     Toyota  Silverado  2014.0   13578.0  Excellent  27321.10\n",
       "2  Chevrolet      Civic  2016.0   46054.0       Good  23697.30\n",
       "3       Ford      Civic  2022.0   34981.0  Excellent  18251.05\n",
       "4  Chevrolet      Civic  2019.0   63565.0  Excellent  19821.85\n",
       "5       Ford  Silverado  2013.0   23600.0  Excellent  27820.00\n",
       "6  Chevrolet  Silverado  2015.0   89471.0       Good  22526.55\n",
       "7       Ford      Camry  2014.0  121298.0       Good  21935.10\n",
       "8       Ford     Altima  2016.0  110691.0  Excellent  20465.45\n",
       "9     Toyota     Altima  2019.0  112693.0  Excellent  17365.45"
      ]
     },
     "execution_count": 2,
     "metadata": {},
     "output_type": "execute_result"
    }
   ],
   "source": [
    "import pandas as pd\n",
    "import matplotlib.pyplot as plt\n",
    "import plotly.express as px\n",
    "from ydata_profiling import ProfileReport\n",
    "\n",
    "\n",
    "\n",
    "df= pd.read_csv(r\"D:\\TASKS-NALA\\master-tasks\\Estadistica Aplicada\\Parcial01\\tarea02\\CarPricesPrediction.csv\")\n",
    "df.head(10)\n"
   ]
  },
  {
   "cell_type": "code",
   "execution_count": 3,
   "id": "c82299a9",
   "metadata": {},
   "outputs": [
    {
     "data": {
      "text/html": [
       "<div>\n",
       "<style scoped>\n",
       "    .dataframe tbody tr th:only-of-type {\n",
       "        vertical-align: middle;\n",
       "    }\n",
       "\n",
       "    .dataframe tbody tr th {\n",
       "        vertical-align: top;\n",
       "    }\n",
       "\n",
       "    .dataframe thead th {\n",
       "        text-align: right;\n",
       "    }\n",
       "</style>\n",
       "<table border=\"1\" class=\"dataframe\">\n",
       "  <thead>\n",
       "    <tr style=\"text-align: right;\">\n",
       "      <th></th>\n",
       "      <th>count</th>\n",
       "      <th>mean</th>\n",
       "      <th>std</th>\n",
       "      <th>min</th>\n",
       "      <th>25%</th>\n",
       "      <th>50%</th>\n",
       "      <th>75%</th>\n",
       "      <th>max</th>\n",
       "    </tr>\n",
       "  </thead>\n",
       "  <tbody>\n",
       "    <tr>\n",
       "      <th>Year</th>\n",
       "      <td>909.0</td>\n",
       "      <td>2015.844884</td>\n",
       "      <td>3.713757</td>\n",
       "      <td>2010.0</td>\n",
       "      <td>2013.0</td>\n",
       "      <td>2016.0</td>\n",
       "      <td>2019.0</td>\n",
       "      <td>2022.00</td>\n",
       "    </tr>\n",
       "    <tr>\n",
       "      <th>Mileage</th>\n",
       "      <td>909.0</td>\n",
       "      <td>78648.289329</td>\n",
       "      <td>37174.329531</td>\n",
       "      <td>12784.0</td>\n",
       "      <td>47483.0</td>\n",
       "      <td>77857.0</td>\n",
       "      <td>109321.0</td>\n",
       "      <td>146622.00</td>\n",
       "    </tr>\n",
       "    <tr>\n",
       "      <th>Price</th>\n",
       "      <td>927.0</td>\n",
       "      <td>22219.137540</td>\n",
       "      <td>3981.484014</td>\n",
       "      <td>14197.5</td>\n",
       "      <td>19100.4</td>\n",
       "      <td>22276.8</td>\n",
       "      <td>25392.1</td>\n",
       "      <td>30025.55</td>\n",
       "    </tr>\n",
       "  </tbody>\n",
       "</table>\n",
       "</div>"
      ],
      "text/plain": [
       "         count          mean           std      min      25%      50%  \\\n",
       "Year     909.0   2015.844884      3.713757   2010.0   2013.0   2016.0   \n",
       "Mileage  909.0  78648.289329  37174.329531  12784.0  47483.0  77857.0   \n",
       "Price    927.0  22219.137540   3981.484014  14197.5  19100.4  22276.8   \n",
       "\n",
       "              75%        max  \n",
       "Year       2019.0    2022.00  \n",
       "Mileage  109321.0  146622.00  \n",
       "Price     25392.1   30025.55  "
      ]
     },
     "execution_count": 3,
     "metadata": {},
     "output_type": "execute_result"
    }
   ],
   "source": [
    "df.describe().T"
   ]
  },
  {
   "cell_type": "code",
   "execution_count": 4,
   "id": "95114128",
   "metadata": {},
   "outputs": [
    {
     "data": {
      "text/plain": [
       "Make          0\n",
       "Model         0\n",
       "Year         18\n",
       "Mileage      18\n",
       "Condition     0\n",
       "Price         0\n",
       "dtype: int64"
      ]
     },
     "execution_count": 4,
     "metadata": {},
     "output_type": "execute_result"
    }
   ],
   "source": [
    "df.isnull().sum()\n"
   ]
  },
  {
   "cell_type": "markdown",
   "id": "769eed62",
   "metadata": {},
   "source": [
    "### Descripción del Dataset\n",
    "\n",
    "El dataset utilizado en este análisis contiene información sobre los precios de automóviles y sus características asociadas. Aquí hay una breve descripción general del dataset:\n",
    "\n",
    "**Columnas:** El dataset consta de varias columnas, incluyendo:\n",
    "\n",
    "*   **Make:** La marca o fabricante del automóvil (ej., Toyota, Honda, Ford).\n",
    "*   **Model:** El modelo específico del automóvil (ej., Camry, Civic, F-150).\n",
    "*   **Year:** El año de fabricación del automóvil.\n",
    "*   **Mileage:** El kilometraje total (en millas) del automóvil.\n",
    "*   **Condition:** La condición del automóvil, categorizada como Excelente, Buena o Regular.\n",
    "*   **Price:** El precio del automóvil.\n",
    "\n",
    "**Tamaño:** El dataset contiene un cierto número de filas, cada una representando una entrada de automóvil única, y un conjunto de columnas que describen varios atributos de los automóviles.\n",
    "\n",
    "**Fuente:** El dataset fue generado sintéticamente para el propósito de este análisis. Fue creado utilizando un script de Python que simuló los precios de los automóviles basándose en valores aleatorios y factores predefinidos para imitar la variabilidad del mundo real.\n",
    "\n",
    "**Propósito:** El dataset se utiliza para el análisis exploratorio de datos (EDA) y tareas de modelado. Sirve como un dataset de muestra para demostrar técnicas de análisis de datos, como la limpieza de datos, la visualización y el modelado predictivo, en un contexto de predicción de precios de automóviles.\n",
    "\n",
    "**Tipos de Datos:** El dataset consta de tipos de datos tanto numéricos como categóricos. Las características numéricas incluyen Year, Mileage y Price, mientras que las características categóricas incluyen Make, Model y Condition.\n",
    "\n",
    "**Valores Faltantes:** No hay valores faltantes en el dataset, asegurando que el análisis se pueda realizar sin problemas sin la necesidad de imputación o manejo de datos faltantes.\n",
    "\n",
    "En general, este dataset proporciona una base para analizar y comprender los factores que influyen en los precios de los automóviles, explorar las relaciones entre las características y construir modelos predictivos para estimar los precios de los automóviles basándose en los atributos dados.\n",
    "\n"
   ]
  },
  {
   "cell_type": "code",
   "execution_count": 5,
   "id": "e315f26f",
   "metadata": {},
   "outputs": [
    {
     "name": "stdout",
     "output_type": "stream",
     "text": [
      "Conteo de nulos en X después de la imputación:\n",
      "Make         0\n",
      "Model        0\n",
      "Year         0\n",
      "Mileage      0\n",
      "Condition    0\n",
      "dtype: int64\n"
     ]
    },
    {
     "name": "stderr",
     "output_type": "stream",
     "text": [
      "C:\\Users\\crasc\\AppData\\Local\\Temp\\ipykernel_10228\\4180102563.py:8: FutureWarning: A value is trying to be set on a copy of a DataFrame or Series through chained assignment using an inplace method.\n",
      "The behavior will change in pandas 3.0. This inplace method will never work because the intermediate object on which we are setting values always behaves as a copy.\n",
      "\n",
      "For example, when doing 'df[col].method(value, inplace=True)', try using 'df.method({col: value}, inplace=True)' or df[col] = df[col].method(value) instead, to perform the operation inplace on the original object.\n",
      "\n",
      "\n",
      "  X['Year'].fillna(X['Year'].mean(), inplace=True)\n",
      "C:\\Users\\crasc\\AppData\\Local\\Temp\\ipykernel_10228\\4180102563.py:11: FutureWarning: A value is trying to be set on a copy of a DataFrame or Series through chained assignment using an inplace method.\n",
      "The behavior will change in pandas 3.0. This inplace method will never work because the intermediate object on which we are setting values always behaves as a copy.\n",
      "\n",
      "For example, when doing 'df[col].method(value, inplace=True)', try using 'df.method({col: value}, inplace=True)' or df[col] = df[col].method(value) instead, to perform the operation inplace on the original object.\n",
      "\n",
      "\n",
      "  X['Mileage'].fillna(X['Mileage'].mean(), inplace=True)\n"
     ]
    }
   ],
   "source": [
    "# Separar el dataset en variables independientes (X) y dependiente (y)\n",
    "X = df.drop('Price', axis=1)\n",
    "y = df['Price']\n",
    "\n",
    "# Cambiar cada dato faltante por el promedio de la columna\n",
    "\n",
    "# Imputar valores faltantes en 'Year'\n",
    "X['Year'].fillna(X['Year'].mean(), inplace=True)\n",
    "\n",
    "# Imputar valores faltantes en 'Mileage'\n",
    "X['Mileage'].fillna(X['Mileage'].mean(), inplace=True)\n",
    "\n",
    "\n",
    "# --- Verificación (Opcional) ---\n",
    "# Puedes ejecutar esta línea para confirmar que ya no hay valores nulos en tus variables independientes.\n",
    "print(\"Conteo de nulos en X después de la imputación:\")\n",
    "print(X.isnull().sum())\n"
   ]
  },
  {
   "cell_type": "code",
   "execution_count": 6,
   "id": "072fb283",
   "metadata": {},
   "outputs": [
    {
     "name": "stdout",
     "output_type": "stream",
     "text": [
      "DataFrame con Label Encoding:\n",
      "   Make  Model    Year  Mileage  Condition\n",
      "0     1      4  2022.0  18107.0          0\n",
      "1     4      4  2014.0  13578.0          0\n",
      "2     0      2  2016.0  46054.0          2\n",
      "3     1      2  2022.0  34981.0          0\n",
      "4     0      2  2019.0  63565.0          0\n"
     ]
    }
   ],
   "source": [
    "from sklearn.preprocessing import LabelEncoder\n",
    "\n",
    "# Creamos una copia de X para no modificar el original\n",
    "X_label_encoded = X.copy()\n",
    "\n",
    "# Inicializamos el codificador\n",
    "le = LabelEncoder()\n",
    "\n",
    "# Aplicamos el encoding a cada columna categórica\n",
    "for col in ['Make', 'Model', 'Condition']:\n",
    "    X_label_encoded[col] = le.fit_transform(X_label_encoded[col])\n",
    "\n",
    "# --- Verificación (Opcional) ---\n",
    "print(\"DataFrame con Label Encoding:\")\n",
    "print(X_label_encoded.head())\n"
   ]
  },
  {
   "cell_type": "code",
   "execution_count": 7,
   "id": "34041ac1",
   "metadata": {},
   "outputs": [
    {
     "name": "stdout",
     "output_type": "stream",
     "text": [
      "\n",
      "DataFrame con One-Hot Encoding (variables dummy):\n",
      "     Year  Mileage  Make_Chevrolet  Make_Ford  Make_Honda  Make_Nissan  \\\n",
      "0  2022.0  18107.0           False       True       False        False   \n",
      "1  2014.0  13578.0           False      False       False        False   \n",
      "2  2016.0  46054.0            True      False       False        False   \n",
      "3  2022.0  34981.0           False       True       False        False   \n",
      "4  2019.0  63565.0            True      False       False        False   \n",
      "\n",
      "   Make_Toyota  \n",
      "0        False  \n",
      "1         True  \n",
      "2        False  \n",
      "3        False  \n",
      "4        False  \n"
     ]
    }
   ],
   "source": [
    "# Usamos la función get_dummies de pandas, que es muy directa\n",
    "X_one_hot_encoded = pd.get_dummies(X, columns=['Make', 'Model', 'Condition'])\n",
    "\n",
    "# --- Verificación (Opcional) ---\n",
    "print(\"\\nDataFrame con One-Hot Encoding (variables dummy):\")\n",
    "# Usamos .iloc para ver las primeras filas y algunas de las nuevas columnas\n",
    "print(X_one_hot_encoded.iloc[:, :7].head())"
   ]
  },
  {
   "cell_type": "code",
   "execution_count": 8,
   "id": "11b6020a",
   "metadata": {},
   "outputs": [
    {
     "ename": "ModuleNotFoundError",
     "evalue": "No module named 'ipywidgets'",
     "output_type": "error",
     "traceback": [
      "\u001b[31m---------------------------------------------------------------------------\u001b[39m",
      "\u001b[31mModuleNotFoundError\u001b[39m                       Traceback (most recent call last)",
      "\u001b[36mFile \u001b[39m\u001b[32m~\\AppData\\Local\\Packages\\PythonSoftwareFoundation.Python.3.11_qbz5n2kfra8p0\\LocalCache\\local-packages\\Python311\\site-packages\\IPython\\core\\formatters.py:406\u001b[39m, in \u001b[36mBaseFormatter.__call__\u001b[39m\u001b[34m(self, obj)\u001b[39m\n\u001b[32m    404\u001b[39m     method = get_real_method(obj, \u001b[38;5;28mself\u001b[39m.print_method)\n\u001b[32m    405\u001b[39m     \u001b[38;5;28;01mif\u001b[39;00m method \u001b[38;5;129;01mis\u001b[39;00m \u001b[38;5;129;01mnot\u001b[39;00m \u001b[38;5;28;01mNone\u001b[39;00m:\n\u001b[32m--> \u001b[39m\u001b[32m406\u001b[39m         \u001b[38;5;28;01mreturn\u001b[39;00m \u001b[43mmethod\u001b[49m\u001b[43m(\u001b[49m\u001b[43m)\u001b[49m\n\u001b[32m    407\u001b[39m     \u001b[38;5;28;01mreturn\u001b[39;00m \u001b[38;5;28;01mNone\u001b[39;00m\n\u001b[32m    408\u001b[39m \u001b[38;5;28;01melse\u001b[39;00m:\n",
      "\u001b[36mFile \u001b[39m\u001b[32m~\\AppData\\Local\\Packages\\PythonSoftwareFoundation.Python.3.11_qbz5n2kfra8p0\\LocalCache\\local-packages\\Python311\\site-packages\\ydata_profiling\\profile_report.py:548\u001b[39m, in \u001b[36mProfileReport._repr_html_\u001b[39m\u001b[34m(self)\u001b[39m\n\u001b[32m    546\u001b[39m \u001b[38;5;28;01mdef\u001b[39;00m\u001b[38;5;250m \u001b[39m\u001b[34m_repr_html_\u001b[39m(\u001b[38;5;28mself\u001b[39m) -> \u001b[38;5;28;01mNone\u001b[39;00m:\n\u001b[32m    547\u001b[39m \u001b[38;5;250m    \u001b[39m\u001b[33;03m\"\"\"The ipython notebook widgets user interface gets called by the jupyter notebook.\"\"\"\u001b[39;00m\n\u001b[32m--> \u001b[39m\u001b[32m548\u001b[39m     \u001b[38;5;28;43mself\u001b[39;49m\u001b[43m.\u001b[49m\u001b[43mto_notebook_iframe\u001b[49m\u001b[43m(\u001b[49m\u001b[43m)\u001b[49m\n",
      "\u001b[36mFile \u001b[39m\u001b[32m~\\AppData\\Local\\Packages\\PythonSoftwareFoundation.Python.3.11_qbz5n2kfra8p0\\LocalCache\\local-packages\\Python311\\site-packages\\ydata_profiling\\profile_report.py:521\u001b[39m, in \u001b[36mProfileReport.to_notebook_iframe\u001b[39m\u001b[34m(self)\u001b[39m\n\u001b[32m    510\u001b[39m \u001b[38;5;250m\u001b[39m\u001b[33;03m\"\"\"Used to output the HTML representation to a Jupyter notebook.\u001b[39;00m\n\u001b[32m    511\u001b[39m \u001b[33;03mWhen config.notebook.iframe.attribute is \"src\", this function creates a temporary HTML file\u001b[39;00m\n\u001b[32m    512\u001b[39m \u001b[33;03min `./tmp/profile_[hash].html` and returns an Iframe pointing to that contents.\u001b[39;00m\n\u001b[32m   (...)\u001b[39m\u001b[32m    517\u001b[39m \u001b[33;03m    This constructions solves problems with conflicting stylesheets and navigation links.\u001b[39;00m\n\u001b[32m    518\u001b[39m \u001b[33;03m\"\"\"\u001b[39;00m\n\u001b[32m    519\u001b[39m \u001b[38;5;28;01mfrom\u001b[39;00m\u001b[38;5;250m \u001b[39m\u001b[34;01mIPython\u001b[39;00m\u001b[34;01m.\u001b[39;00m\u001b[34;01mdisplay\u001b[39;00m\u001b[38;5;250m \u001b[39m\u001b[38;5;28;01mimport\u001b[39;00m display\n\u001b[32m--> \u001b[39m\u001b[32m521\u001b[39m \u001b[38;5;28;01mfrom\u001b[39;00m\u001b[38;5;250m \u001b[39m\u001b[34;01mydata_profiling\u001b[39;00m\u001b[34;01m.\u001b[39;00m\u001b[34;01mreport\u001b[39;00m\u001b[34;01m.\u001b[39;00m\u001b[34;01mpresentation\u001b[39;00m\u001b[34;01m.\u001b[39;00m\u001b[34;01mflavours\u001b[39;00m\u001b[34;01m.\u001b[39;00m\u001b[34;01mwidget\u001b[39;00m\u001b[34;01m.\u001b[39;00m\u001b[34;01mnotebook\u001b[39;00m\u001b[38;5;250m \u001b[39m\u001b[38;5;28;01mimport\u001b[39;00m (\n\u001b[32m    522\u001b[39m     get_notebook_iframe,\n\u001b[32m    523\u001b[39m )\n\u001b[32m    525\u001b[39m \u001b[38;5;66;03m# Ignore warning: https://github.com/ipython/ipython/pull/11350/files\u001b[39;00m\n\u001b[32m    526\u001b[39m \u001b[38;5;28;01mwith\u001b[39;00m warnings.catch_warnings():\n",
      "\u001b[36mFile \u001b[39m\u001b[32m~\\AppData\\Local\\Packages\\PythonSoftwareFoundation.Python.3.11_qbz5n2kfra8p0\\LocalCache\\local-packages\\Python311\\site-packages\\ydata_profiling\\report\\presentation\\flavours\\widget\\__init__.py:1\u001b[39m\n\u001b[32m----> \u001b[39m\u001b[32m1\u001b[39m \u001b[38;5;28;01mfrom\u001b[39;00m\u001b[38;5;250m \u001b[39m\u001b[34;01mydata_profiling\u001b[39;00m\u001b[34;01m.\u001b[39;00m\u001b[34;01mreport\u001b[39;00m\u001b[34;01m.\u001b[39;00m\u001b[34;01mpresentation\u001b[39;00m\u001b[34;01m.\u001b[39;00m\u001b[34;01mflavours\u001b[39;00m\u001b[34;01m.\u001b[39;00m\u001b[34;01mwidget\u001b[39;00m\u001b[34;01m.\u001b[39;00m\u001b[34;01malerts\u001b[39;00m\u001b[38;5;250m \u001b[39m\u001b[38;5;28;01mimport\u001b[39;00m WidgetAlerts\n\u001b[32m      2\u001b[39m \u001b[38;5;28;01mfrom\u001b[39;00m\u001b[38;5;250m \u001b[39m\u001b[34;01mydata_profiling\u001b[39;00m\u001b[34;01m.\u001b[39;00m\u001b[34;01mreport\u001b[39;00m\u001b[34;01m.\u001b[39;00m\u001b[34;01mpresentation\u001b[39;00m\u001b[34;01m.\u001b[39;00m\u001b[34;01mflavours\u001b[39;00m\u001b[34;01m.\u001b[39;00m\u001b[34;01mwidget\u001b[39;00m\u001b[34;01m.\u001b[39;00m\u001b[34;01mcollapse\u001b[39;00m\u001b[38;5;250m \u001b[39m\u001b[38;5;28;01mimport\u001b[39;00m WidgetCollapse\n\u001b[32m      3\u001b[39m \u001b[38;5;28;01mfrom\u001b[39;00m\u001b[38;5;250m \u001b[39m\u001b[34;01mydata_profiling\u001b[39;00m\u001b[34;01m.\u001b[39;00m\u001b[34;01mreport\u001b[39;00m\u001b[34;01m.\u001b[39;00m\u001b[34;01mpresentation\u001b[39;00m\u001b[34;01m.\u001b[39;00m\u001b[34;01mflavours\u001b[39;00m\u001b[34;01m.\u001b[39;00m\u001b[34;01mwidget\u001b[39;00m\u001b[34;01m.\u001b[39;00m\u001b[34;01mcontainer\u001b[39;00m\u001b[38;5;250m \u001b[39m\u001b[38;5;28;01mimport\u001b[39;00m (\n\u001b[32m      4\u001b[39m     WidgetContainer,\n\u001b[32m      5\u001b[39m )\n",
      "\u001b[36mFile \u001b[39m\u001b[32m~\\AppData\\Local\\Packages\\PythonSoftwareFoundation.Python.3.11_qbz5n2kfra8p0\\LocalCache\\local-packages\\Python311\\site-packages\\ydata_profiling\\report\\presentation\\flavours\\widget\\alerts.py:3\u001b[39m\n\u001b[32m      1\u001b[39m \u001b[38;5;28;01mfrom\u001b[39;00m\u001b[38;5;250m \u001b[39m\u001b[34;01mtyping\u001b[39;00m\u001b[38;5;250m \u001b[39m\u001b[38;5;28;01mimport\u001b[39;00m List\n\u001b[32m----> \u001b[39m\u001b[32m3\u001b[39m \u001b[38;5;28;01mfrom\u001b[39;00m\u001b[38;5;250m \u001b[39m\u001b[34;01mipywidgets\u001b[39;00m\u001b[38;5;250m \u001b[39m\u001b[38;5;28;01mimport\u001b[39;00m HTML, Button, widgets\n\u001b[32m      5\u001b[39m \u001b[38;5;28;01mfrom\u001b[39;00m\u001b[38;5;250m \u001b[39m\u001b[34;01mydata_profiling\u001b[39;00m\u001b[34;01m.\u001b[39;00m\u001b[34;01mreport\u001b[39;00m\u001b[34;01m.\u001b[39;00m\u001b[34;01mpresentation\u001b[39;00m\u001b[34;01m.\u001b[39;00m\u001b[34;01mcore\u001b[39;00m\u001b[38;5;250m \u001b[39m\u001b[38;5;28;01mimport\u001b[39;00m Alerts\n\u001b[32m      6\u001b[39m \u001b[38;5;28;01mfrom\u001b[39;00m\u001b[38;5;250m \u001b[39m\u001b[34;01mydata_profiling\u001b[39;00m\u001b[34;01m.\u001b[39;00m\u001b[34;01mreport\u001b[39;00m\u001b[34;01m.\u001b[39;00m\u001b[34;01mpresentation\u001b[39;00m\u001b[34;01m.\u001b[39;00m\u001b[34;01mflavours\u001b[39;00m\u001b[34;01m.\u001b[39;00m\u001b[34;01mhtml\u001b[39;00m\u001b[38;5;250m \u001b[39m\u001b[38;5;28;01mimport\u001b[39;00m templates\n",
      "\u001b[31mModuleNotFoundError\u001b[39m: No module named 'ipywidgets'"
     ]
    },
    {
     "data": {
      "text/plain": []
     },
     "execution_count": 8,
     "metadata": {},
     "output_type": "execute_result"
    }
   ],
   "source": [
    "profile = ProfileReport(df, title = \"Reporte de Analisis Exploratorio de los Datos CarPricePrediction\", )\n",
    "profile"
   ]
  }
 ],
 "metadata": {
  "kernelspec": {
   "display_name": "Python 3",
   "language": "python",
   "name": "python3"
  },
  "language_info": {
   "codemirror_mode": {
    "name": "ipython",
    "version": 3
   },
   "file_extension": ".py",
   "mimetype": "text/x-python",
   "name": "python",
   "nbconvert_exporter": "python",
   "pygments_lexer": "ipython3",
   "version": "3.11.9"
  }
 },
 "nbformat": 4,
 "nbformat_minor": 5
}
