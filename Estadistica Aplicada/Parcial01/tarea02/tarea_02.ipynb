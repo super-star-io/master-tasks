{
 "cells": [
  {
   "cell_type": "code",
   "execution_count": null,
   "id": "94ba78fb",
   "metadata": {},
   "outputs": [],
   "source": [
    "import pandas as pd\n"
   ]
  }
 ],
 "metadata": {
  "language_info": {
   "name": "python"
  }
 },
 "nbformat": 4,
 "nbformat_minor": 5
}
