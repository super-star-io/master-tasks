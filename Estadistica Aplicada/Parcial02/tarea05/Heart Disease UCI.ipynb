{
 "cells": [
  {
   "cell_type": "markdown",
   "id": "69b00228",
   "metadata": {},
   "source": [
    "### Carga de librerias necesarias para el analisis multivariante"
   ]
  },
  {
   "cell_type": "code",
   "execution_count": 86,
   "id": "511fa34f",
   "metadata": {},
   "outputs": [],
   "source": [
    "\n",
    "#==============================================================================\n",
    "# EJEMPLO DEL MÉTODO DE REGRESIÓN LINEAL SIMPLE USANDO LAS LIBRERÍAS \n",
    "# SKLEARN Y STATSMODELS (EJEMPLO 1)\n",
    "#==============================================================================\n",
    "\n",
    "# Cargar librerías\n",
    "import pandas as pd\n",
    "import numpy as np\n",
    "from sklearn.preprocessing import LabelEncoder, OrdinalEncoder, OneHotEncoder\n",
    "from sklearn.metrics import accuracy_score, confusion_matrix, classification_report, roc_auc_score\n",
    "import itertools\n",
    "from sklearn.model_selection import train_test_split, GridSearchCV\n",
    "from sklearn.preprocessing import StandardScaler\n",
    "from sklearn.linear_model import LogisticRegression\n",
    "from sklearn.ensemble import RandomForestClassifier\n",
    "from xgboost import XGBClassifier\n",
    "import statsmodels.api as sm\n",
    "import plotly.express as px\n",
    "import matplotlib.pyplot as plt\n",
    "import seaborn as sns"
   ]
  },
  {
   "cell_type": "markdown",
   "id": "f00e6cf7",
   "metadata": {},
   "source": [
    "### Se carga el dataset \n",
    "# Heart Disease UCI "
   ]
  },
  {
   "cell_type": "markdown",
   "id": "f7917f08",
   "metadata": {},
   "source": [
    "\n",
    "### Este es un dataset **multivariante** clásico utilizado en Machine Learning para predecir la **presencia o ausencia de enfermedad cardíaca** en pacientes. Aunque la base de datos original contiene 76 atributos, la mayoría de los estudios y análisis se centran en un subconjunto de 14 variables clave, que son las que se utilizarán en este análisis. El objetivo principal es construir un modelo predictivo basado en estas 14 características clínicas. 🧐\n"
   ]
  },
  {
   "cell_type": "markdown",
   "id": "95622a1a",
   "metadata": {},
   "source": [
    "## 🩺 Descripción de Variables: Heart Disease UCI\n",
    "\n",
    "| Variable     | Tipo             | Descripción                                                          | Valores / Ejemplo                                                                 |\n",
    "| :----------- | :--------------- | :------------------------------------------------------------------- | :-------------------------------------------------------------------------------- |\n",
    "| **id** | Numérica         | 🆔 Identificador único para cada paciente.                           | 1, 2, ...                                                                         |\n",
    "| **age** | Numérica         | ⏳ Contador de millas de vida del paciente (en años).                  | 63, 37, ...                                                                       |\n",
    "| **origin** | Categórica       | 📍 Lugar donde comenzó el viaje de los datos del paciente.           | Cleveland, Hungary, ...                                                           |\n",
    "| **sex** | Categórica Binaria | 🧬 Plano biológico del paciente.                                     | 1 = Hombre, 0 = Mujer                                                             |\n",
    "| **cp** | Categórica       | ❤️‍🩹 Señal SOS del corazón (tipo de dolor torácico).                   | 0: Angina típica<br>1: Angina atípica<br>2: Dolor no anginoso<br>3: Asintomático |\n",
    "| **trestbps** | Numérica         | 🌡️ Lectura de la olla a presión (presión arterial en reposo en mmHg). | 145, 130, ...                                                                     |\n",
    "| **chol** | Numérica         | 🧈 El \"factor grasa\" en el torrente sanguíneo (colesterol en mg/dl).  | 233, 250, ...                                                                     |\n",
    "| **fbs** | Categórica Binaria | 🍬 Verificación del nivel de azúcar matutino (> 120 mg/dl?).         | 1 = Verdadero<br>0 = Falso                                                        |\n",
    "| **restecg** | Categórica       | ⚡ Instantánea del ritmo eléctrico del corazón en reposo.             | 0: Normal<br>1: Anormalidad ST-T<br>2: Hipertrofia VI                           |\n",
    "| **thalach** | Numérica         | 🏃‍♀️ La velocidad máxima alcanzada por el corazón durante el ejercicio. | 150, 187, ...                                                                     |\n",
    "| **exang** | Categórica Binaria | 😥 ¿El ejercicio hizo protestar al corazón? (Angina inducida).       | 1 = Sí<br>0 = No                                                                  |\n",
    "| **oldpeak** | Numérica         | 📉 La huella eléctrica dejada por el ejercicio en el segmento ST.    | 2.3, 3.5, ...                                                                     |\n",
    "| **slope** | Categórica       | 📈 La inclinación de la onda de recuperación del corazón post-ejercicio. | 0, 1, 2                                                                           |\n",
    "| **ca** | Numérica         | 🚦 Chequeo de tráfico en las autopistas coronarias (nº vasos principales). | 0, 1, 2, 3                                                                        |\n",
    "| **thal** | Categórica       | 🩸 Reporte de condición del flujo sanguíneo (Talasemia).             | 1: Normal<br>2: Defecto fijo<br>3: Defecto reversible                             |\n",
    "| **num/target**| Categórica Binaria | 🎯 El diagnóstico final. ¿Hay enfermedad cardíaca?                  | 0 = No<br>1 = Sí                                                                  |"
   ]
  },
  {
   "cell_type": "markdown",
   "id": "54bd5fb0",
   "metadata": {},
   "source": [
    "### Carga el DataSet"
   ]
  },
  {
   "cell_type": "code",
   "execution_count": 87,
   "id": "fe428f05",
   "metadata": {},
   "outputs": [
    {
     "data": {
      "text/html": [
       "<div>\n",
       "<style scoped>\n",
       "    .dataframe tbody tr th:only-of-type {\n",
       "        vertical-align: middle;\n",
       "    }\n",
       "\n",
       "    .dataframe tbody tr th {\n",
       "        vertical-align: top;\n",
       "    }\n",
       "\n",
       "    .dataframe thead th {\n",
       "        text-align: right;\n",
       "    }\n",
       "</style>\n",
       "<table border=\"1\" class=\"dataframe\">\n",
       "  <thead>\n",
       "    <tr style=\"text-align: right;\">\n",
       "      <th></th>\n",
       "      <th>age</th>\n",
       "      <th>sex</th>\n",
       "      <th>cp</th>\n",
       "      <th>trestbps</th>\n",
       "      <th>chol</th>\n",
       "      <th>fbs</th>\n",
       "      <th>restecg</th>\n",
       "      <th>thalch</th>\n",
       "      <th>exang</th>\n",
       "      <th>oldpeak</th>\n",
       "      <th>slope</th>\n",
       "      <th>ca</th>\n",
       "      <th>thal</th>\n",
       "      <th>num</th>\n",
       "    </tr>\n",
       "  </thead>\n",
       "  <tbody>\n",
       "    <tr>\n",
       "      <th>0</th>\n",
       "      <td>63</td>\n",
       "      <td>Male</td>\n",
       "      <td>typical angina</td>\n",
       "      <td>145.0</td>\n",
       "      <td>233.0</td>\n",
       "      <td>True</td>\n",
       "      <td>lv hypertrophy</td>\n",
       "      <td>150.0</td>\n",
       "      <td>False</td>\n",
       "      <td>2.3</td>\n",
       "      <td>downsloping</td>\n",
       "      <td>0.0</td>\n",
       "      <td>fixed defect</td>\n",
       "      <td>0</td>\n",
       "    </tr>\n",
       "    <tr>\n",
       "      <th>1</th>\n",
       "      <td>67</td>\n",
       "      <td>Male</td>\n",
       "      <td>asymptomatic</td>\n",
       "      <td>160.0</td>\n",
       "      <td>286.0</td>\n",
       "      <td>False</td>\n",
       "      <td>lv hypertrophy</td>\n",
       "      <td>108.0</td>\n",
       "      <td>True</td>\n",
       "      <td>1.5</td>\n",
       "      <td>flat</td>\n",
       "      <td>3.0</td>\n",
       "      <td>normal</td>\n",
       "      <td>2</td>\n",
       "    </tr>\n",
       "    <tr>\n",
       "      <th>2</th>\n",
       "      <td>67</td>\n",
       "      <td>Male</td>\n",
       "      <td>asymptomatic</td>\n",
       "      <td>120.0</td>\n",
       "      <td>229.0</td>\n",
       "      <td>False</td>\n",
       "      <td>lv hypertrophy</td>\n",
       "      <td>129.0</td>\n",
       "      <td>True</td>\n",
       "      <td>2.6</td>\n",
       "      <td>flat</td>\n",
       "      <td>2.0</td>\n",
       "      <td>reversable defect</td>\n",
       "      <td>1</td>\n",
       "    </tr>\n",
       "    <tr>\n",
       "      <th>3</th>\n",
       "      <td>37</td>\n",
       "      <td>Male</td>\n",
       "      <td>non-anginal</td>\n",
       "      <td>130.0</td>\n",
       "      <td>250.0</td>\n",
       "      <td>False</td>\n",
       "      <td>normal</td>\n",
       "      <td>187.0</td>\n",
       "      <td>False</td>\n",
       "      <td>3.5</td>\n",
       "      <td>downsloping</td>\n",
       "      <td>0.0</td>\n",
       "      <td>normal</td>\n",
       "      <td>0</td>\n",
       "    </tr>\n",
       "    <tr>\n",
       "      <th>4</th>\n",
       "      <td>41</td>\n",
       "      <td>Female</td>\n",
       "      <td>atypical angina</td>\n",
       "      <td>130.0</td>\n",
       "      <td>204.0</td>\n",
       "      <td>False</td>\n",
       "      <td>lv hypertrophy</td>\n",
       "      <td>172.0</td>\n",
       "      <td>False</td>\n",
       "      <td>1.4</td>\n",
       "      <td>upsloping</td>\n",
       "      <td>0.0</td>\n",
       "      <td>normal</td>\n",
       "      <td>0</td>\n",
       "    </tr>\n",
       "  </tbody>\n",
       "</table>\n",
       "</div>"
      ],
      "text/plain": [
       "   age     sex               cp  trestbps   chol    fbs         restecg  \\\n",
       "0   63    Male   typical angina     145.0  233.0   True  lv hypertrophy   \n",
       "1   67    Male     asymptomatic     160.0  286.0  False  lv hypertrophy   \n",
       "2   67    Male     asymptomatic     120.0  229.0  False  lv hypertrophy   \n",
       "3   37    Male      non-anginal     130.0  250.0  False          normal   \n",
       "4   41  Female  atypical angina     130.0  204.0  False  lv hypertrophy   \n",
       "\n",
       "   thalch  exang  oldpeak        slope   ca               thal  num  \n",
       "0   150.0  False      2.3  downsloping  0.0       fixed defect    0  \n",
       "1   108.0   True      1.5         flat  3.0             normal    2  \n",
       "2   129.0   True      2.6         flat  2.0  reversable defect    1  \n",
       "3   187.0  False      3.5  downsloping  0.0             normal    0  \n",
       "4   172.0  False      1.4    upsloping  0.0             normal    0  "
      ]
     },
     "execution_count": 87,
     "metadata": {},
     "output_type": "execute_result"
    }
   ],
   "source": [
    "df = pd.read_csv('./heart_disease_uci.csv') # Cargar dataset\n",
    "df = df.drop(['id', 'dataset'], axis=1)\n",
    "df.head()\n"
   ]
  },
  {
   "cell_type": "code",
   "execution_count": 88,
   "id": "ba0dbbf4",
   "metadata": {},
   "outputs": [
    {
     "name": "stdout",
     "output_type": "stream",
     "text": [
      "\n",
      "Dataset después de limpieza inicial (manejo de '?'):\n",
      "   age     sex               cp  trestbps   chol    fbs         restecg  \\\n",
      "0   63    Male   typical angina     145.0  233.0   True  lv hypertrophy   \n",
      "1   67    Male     asymptomatic     160.0  286.0  False  lv hypertrophy   \n",
      "2   67    Male     asymptomatic     120.0  229.0  False  lv hypertrophy   \n",
      "3   37    Male      non-anginal     130.0  250.0  False          normal   \n",
      "4   41  Female  atypical angina     130.0  204.0  False  lv hypertrophy   \n",
      "\n",
      "   thalch  exang  oldpeak        slope   ca               thal  num  \n",
      "0   150.0  False      2.3  downsloping  0.0       fixed defect    0  \n",
      "1   108.0   True      1.5         flat  3.0             normal    2  \n",
      "2   129.0   True      2.6         flat  2.0  reversable defect    1  \n",
      "3   187.0  False      3.5  downsloping  0.0             normal    0  \n",
      "4   172.0  False      1.4    upsloping  0.0             normal    0  \n",
      "\n",
      "Tipos de datos después de limpieza:\n",
      "<class 'pandas.core.frame.DataFrame'>\n",
      "RangeIndex: 920 entries, 0 to 919\n",
      "Data columns (total 14 columns):\n",
      " #   Column    Non-Null Count  Dtype  \n",
      "---  ------    --------------  -----  \n",
      " 0   age       920 non-null    int64  \n",
      " 1   sex       920 non-null    object \n",
      " 2   cp        920 non-null    object \n",
      " 3   trestbps  861 non-null    float64\n",
      " 4   chol      890 non-null    float64\n",
      " 5   fbs       830 non-null    object \n",
      " 6   restecg   918 non-null    object \n",
      " 7   thalch    865 non-null    float64\n",
      " 8   exang     865 non-null    object \n",
      " 9   oldpeak   858 non-null    float64\n",
      " 10  slope     611 non-null    object \n",
      " 11  ca        920 non-null    float64\n",
      " 12  thal      920 non-null    object \n",
      " 13  num       920 non-null    int64  \n",
      "dtypes: float64(5), int64(2), object(7)\n",
      "memory usage: 100.8+ KB\n",
      "None\n"
     ]
    }
   ],
   "source": [
    "# Manejar valores faltantes representados como '?' en 'ca' y 'thal'\n",
    "df['ca'] = df['ca'].replace('?', np.nan)\n",
    "df['thal'] = df['thal'].replace('?', np.nan)\n",
    "\n",
    "# Imputar con la moda (la categoría más frecuente)\n",
    "ca_mode = df['ca'].mode()[0]\n",
    "thal_mode = df['thal'].mode()[0]\n",
    "df['ca'] = df['ca'].fillna(ca_mode)\n",
    "df['thal'] = df['thal'].fillna(thal_mode)\n",
    "\n",
    "# Asegurarse de que 'ca' sea numérica después de la imputación\n",
    "df['ca'] = pd.to_numeric(df['ca'])\n",
    "\n",
    "print(\"\\nDataset después de limpieza inicial (manejo de '?'):\")\n",
    "print(df.head())\n",
    "print(\"\\nTipos de datos después de limpieza:\")\n",
    "print(df.info())"
   ]
  },
  {
   "cell_type": "code",
   "execution_count": 89,
   "id": "b1d9f81a",
   "metadata": {},
   "outputs": [
    {
     "name": "stdout",
     "output_type": "stream",
     "text": [
      "\n",
      "Imputando valores nulos en columnas numéricas usando la mediana...\n",
      "  Valores nulos en 'trestbps' rellenados con la mediana: 130.0\n",
      "  Valores nulos en 'chol' rellenados con la mediana: 223.0\n",
      "  Valores nulos en 'fbs' rellenados con la mediana: 0.0\n",
      "  Valores nulos en 'thalch' rellenados con la mediana: 140.0\n",
      "  Valores nulos en 'exang' rellenados con la mediana: 0.0\n",
      "  Valores nulos en 'oldpeak' rellenados con la mediana: 0.5\n"
     ]
    }
   ],
   "source": [
    "# a) Variables Binarias (Nominal) -> Label Encoding / map()\n",
    "binary_cols = ['sex', 'fbs', 'exang']\n",
    "# Usaremos map para mayor claridad, pero LabelEncoder también funciona\n",
    "df['sex'] = df['sex'].map({'Male': 1, 'Female': 0})\n",
    "df['fbs'] = df['fbs'].map({True: 1, False: 0}) # Asumiendo que fbs está como Booleano o String 'True'/'False'\n",
    "df['exang'] = df['exang'].map({True: 1, False: 0}) # Asumiendo que exang está como Booleano o String 'True'/'False'\n",
    "\n",
    "# b) Variable Ordinal -> Ordinal Encoding\n",
    "# Definir el orden correcto de las categorías\n",
    "slope_mode = df['slope'].mode()[0]  # Obtener el valor más frecuente\n",
    "df['slope'] = df['slope'].fillna(slope_mode)  # Imputar NaN con el valor más frecuente\n",
    "\n",
    "# Definir el orden correcto de las categorías\n",
    "slope_order = ['upsloping', 'flat', 'downsloping'] \n",
    "ordinal_encoder = OrdinalEncoder(categories=[slope_order])\n",
    "# Aplicar OrdinalEncoder a la columna 'slope'\n",
    "# Usamos reshape(-1, 1) porque el encoder espera un array 2D\n",
    "df['slope'] = ordinal_encoder.fit_transform(df[['slope']])\n",
    "\n",
    "# c) Variables Nominales (Multiclase) -> One-Hot Encoding\n",
    "nominal_cols = ['cp', 'restecg', 'thal']\n",
    "df = pd.get_dummies(df, columns=nominal_cols, drop_first=True)\n",
    "\n",
    "# d) Variable Objetivo -> Binaria (0 o 1)\n",
    "# Convertir 'num' a binario: 0 si es 0, 1 si es mayor que 0\n",
    "df['target'] = df['num'].apply(lambda x: 1 if x > 0 else 0)\n",
    "df = df.drop('num', axis=1) # Eliminar la columna original 'num'\n",
    "\n",
    "\n",
    "numeric_cols_with_nan = ['trestbps', 'chol', 'fbs', 'thalch', 'exang', 'oldpeak'] \n",
    "\n",
    "print(\"\\nImputando valores nulos en columnas numéricas usando la mediana...\")\n",
    "for col in numeric_cols_with_nan:\n",
    "    # Calcular la mediana IGNORANDO los NaN existentes\n",
    "    median_val = df[col].median() \n",
    "    # Rellenar los NaN con la mediana calculada\n",
    "    df[col] = df[col].fillna(median_val)\n",
    "    print(f\"  Valores nulos en '{col}' rellenados con la mediana: {median_val}\")"
   ]
  },
  {
   "cell_type": "code",
   "execution_count": 90,
   "id": "109c2632",
   "metadata": {},
   "outputs": [
    {
     "name": "stdout",
     "output_type": "stream",
     "text": [
      "\n",
      "Visualización del DataFrame después de TODAS las transformaciones:\n",
      "   age  sex  trestbps   chol  fbs  thalch  exang  oldpeak  slope   ca  \\\n",
      "0   63    1     145.0  233.0  1.0   150.0    0.0      2.3    2.0  0.0   \n",
      "1   67    1     160.0  286.0  0.0   108.0    1.0      1.5    1.0  3.0   \n",
      "2   67    1     120.0  229.0  0.0   129.0    1.0      2.6    1.0  2.0   \n",
      "3   37    1     130.0  250.0  0.0   187.0    0.0      3.5    2.0  0.0   \n",
      "4   41    0     130.0  204.0  0.0   172.0    0.0      1.4    0.0  0.0   \n",
      "\n",
      "   cp_atypical angina  cp_non-anginal  cp_typical angina  restecg_normal  \\\n",
      "0               False           False               True           False   \n",
      "1               False           False              False           False   \n",
      "2               False           False              False           False   \n",
      "3               False            True              False            True   \n",
      "4                True           False              False           False   \n",
      "\n",
      "   restecg_st-t abnormality  thal_normal  thal_reversable defect  target  \n",
      "0                     False        False                   False       0  \n",
      "1                     False         True                   False       1  \n",
      "2                     False        False                    True       1  \n",
      "3                     False         True                   False       0  \n",
      "4                     False         True                   False       0  \n",
      "\n",
      "Valores nulos en el dataset después de la transformación:\n",
      "age                         0\n",
      "sex                         0\n",
      "trestbps                    0\n",
      "chol                        0\n",
      "fbs                         0\n",
      "thalch                      0\n",
      "exang                       0\n",
      "oldpeak                     0\n",
      "slope                       0\n",
      "ca                          0\n",
      "cp_atypical angina          0\n",
      "cp_non-anginal              0\n",
      "cp_typical angina           0\n",
      "restecg_normal              0\n",
      "restecg_st-t abnormality    0\n",
      "thal_normal                 0\n",
      "thal_reversable defect      0\n",
      "target                      0\n",
      "dtype: int64\n",
      "\n",
      "Tipos de datos finales:\n",
      "<class 'pandas.core.frame.DataFrame'>\n",
      "RangeIndex: 920 entries, 0 to 919\n",
      "Data columns (total 18 columns):\n",
      " #   Column                    Non-Null Count  Dtype  \n",
      "---  ------                    --------------  -----  \n",
      " 0   age                       920 non-null    int64  \n",
      " 1   sex                       920 non-null    int64  \n",
      " 2   trestbps                  920 non-null    float64\n",
      " 3   chol                      920 non-null    float64\n",
      " 4   fbs                       920 non-null    float64\n",
      " 5   thalch                    920 non-null    float64\n",
      " 6   exang                     920 non-null    float64\n",
      " 7   oldpeak                   920 non-null    float64\n",
      " 8   slope                     920 non-null    float64\n",
      " 9   ca                        920 non-null    float64\n",
      " 10  cp_atypical angina        920 non-null    int64  \n",
      " 11  cp_non-anginal            920 non-null    int64  \n",
      " 12  cp_typical angina         920 non-null    int64  \n",
      " 13  restecg_normal            920 non-null    int64  \n",
      " 14  restecg_st-t abnormality  920 non-null    int64  \n",
      " 15  thal_normal               920 non-null    int64  \n",
      " 16  thal_reversable defect    920 non-null    int64  \n",
      " 17  target                    920 non-null    int64  \n",
      "dtypes: float64(8), int64(10)\n",
      "memory usage: 129.5 KB\n",
      "None\n"
     ]
    }
   ],
   "source": [
    "# --- 4. Verificación Final ---\n",
    "print(\"\\nVisualización del DataFrame después de TODAS las transformaciones:\")\n",
    "print(df.head())\n",
    "\n",
    "# Verificación de valores nulos (NaN)\n",
    "print(\"\\nValores nulos en el dataset después de la transformación:\")\n",
    "# Convertimos los tipos bool a int para poder usar isnull().sum() sin problemas\n",
    "bool_cols = df.select_dtypes(include='bool').columns\n",
    "df[bool_cols] = df[bool_cols].astype(int)\n",
    "print(df.isnull().sum())\n",
    "\n",
    "print(\"\\nTipos de datos finales:\")\n",
    "print(df.info())"
   ]
  },
  {
   "cell_type": "markdown",
   "id": "5011ac34",
   "metadata": {},
   "source": [
    "### Segmenta las variables independientes (X) y la variable dependiente (y)"
   ]
  },
  {
   "cell_type": "code",
   "execution_count": 91,
   "id": "aecdda0b",
   "metadata": {},
   "outputs": [
    {
     "name": "stdout",
     "output_type": "stream",
     "text": [
      "\n",
      "Forma de X_train: (644, 17)\n",
      "Forma de X_test: (276, 17)\n",
      "Distribución de clases en y_train:\n",
      "target\n",
      "1    0.552795\n",
      "0    0.447205\n",
      "Name: proportion, dtype: float64\n",
      "Distribución de clases en y_test:\n",
      "target\n",
      "1    0.554348\n",
      "0    0.445652\n",
      "Name: proportion, dtype: float64\n"
     ]
    }
   ],
   "source": [
    "# Define las características (X) eliminando la columna objetivo\n",
    "X = df.drop('target', axis=1) \n",
    "# Define la variable objetivo (y)\n",
    "y = df['target']\n",
    "\n",
    "# Dividir los datos en conjuntos de entrenamiento y prueba\n",
    "# Se usa stratify=y para mantener la proporción de clases en ambos conjuntos\n",
    "X_train, X_test, y_train, y_test = train_test_split(X, y, test_size=0.3, random_state=42, stratify=y) \n",
    "\n",
    "print(f\"\\nForma de X_train: {X_train.shape}\")\n",
    "print(f\"Forma de X_test: {X_test.shape}\")\n",
    "print(f\"Distribución de clases en y_train:\\n{y_train.value_counts(normalize=True)}\")\n",
    "print(f\"Distribución de clases en y_test:\\n{y_test.value_counts(normalize=True)}\")"
   ]
  },
  {
   "cell_type": "markdown",
   "id": "3dc4ba3f",
   "metadata": {},
   "source": [
    "### Escalar variables"
   ]
  },
  {
   "cell_type": "code",
   "execution_count": 92,
   "id": "7f01cb5b",
   "metadata": {},
   "outputs": [],
   "source": [
    "# Escalar las características numéricas mejora el rendimiento de la Regresión Logística\n",
    "scaler = StandardScaler()\n",
    "X_train_scaled = scaler.fit_transform(X_train)\n",
    "X_test_scaled = scaler.transform(X_test) # Usar solo transform en el conjunto de test"
   ]
  },
  {
   "cell_type": "markdown",
   "id": "5bbd3726",
   "metadata": {},
   "source": [
    " ### Modelo de Regresión Logística"
   ]
  },
  {
   "cell_type": "code",
   "execution_count": 93,
   "id": "293acc8a",
   "metadata": {},
   "outputs": [
    {
     "name": "stdout",
     "output_type": "stream",
     "text": [
      "------------------------------\n",
      "Optimizando y Entrenando Regresión Logística...\n",
      "\n",
      "Regresión Logística optimizada:\n",
      "  Mejores Parámetros: {'C': 1, 'solver': 'liblinear'}\n",
      "              precision    recall  f1-score   support\n",
      "\n",
      "           0       0.80      0.81      0.81       123\n",
      "           1       0.85      0.84      0.84       153\n",
      "\n",
      "    accuracy                           0.83       276\n",
      "   macro avg       0.82      0.82      0.82       276\n",
      "weighted avg       0.83      0.83      0.83       276\n",
      "\n"
     ]
    }
   ],
   "source": [
    "class_reports = {}\n",
    "model_metrics = []\n",
    "\n",
    "# --- Logistic Regression ---\n",
    "print(\"-\" * 30)\n",
    "print(\"Optimizando y Entrenando Regresión Logística...\")\n",
    "# Define parameters for GridSearchCV\n",
    "lr_params = {'C': [0.01, 0.1, 1, 10, 100], 'solver': ['liblinear', 'lbfgs']}\n",
    "lr_grid = GridSearchCV(LogisticRegression(random_state=42, max_iter=1000), lr_params, cv=5, scoring='f1_weighted', n_jobs=-1)\n",
    "lr_grid.fit(X_train, y_train)\n",
    "model_lr = lr_grid.best_estimator_\n",
    "\n",
    "y_pred_lr = model_lr.predict(X_test)\n",
    "report_lr = classification_report(y_test, y_pred_lr, output_dict=True)\n",
    "accuracy_lr = accuracy_score(y_test, y_pred_lr)\n",
    "\n",
    "print(\"\\nRegresión Logística optimizada:\")\n",
    "print(f\"  Mejores Parámetros: {lr_grid.best_params_}\")\n",
    "print(classification_report(y_test, y_pred_lr))\n",
    "class_reports['Logistic Regression'] = report_lr\n",
    "model_metrics.append({'Model': 'Logistic Regression',\n",
    "                      'Accuracy': accuracy_lr,\n",
    "                      'Precision (w)': report_lr['weighted avg']['precision'],\n",
    "                      'Recall (w)': report_lr['weighted avg']['recall'],\n",
    "                      'F1-Score (w)': report_lr['weighted avg']['f1-score']})"
   ]
  },
  {
   "cell_type": "markdown",
   "id": "4cf1010f",
   "metadata": {},
   "source": [
    " ### Modelo de Random Forest Classifier\n"
   ]
  },
  {
   "cell_type": "code",
   "execution_count": 94,
   "id": "43e64055",
   "metadata": {},
   "outputs": [
    {
     "name": "stdout",
     "output_type": "stream",
     "text": [
      "------------------------------\n",
      "Optimizando y Entrenando Random Forest Classifier...\n",
      "Fitting 3 folds for each of 18 candidates, totalling 54 fits\n",
      "\n",
      "Random Forest optimizado:\n",
      "  Mejores Parámetros: {'max_depth': 10, 'min_samples_leaf': 5, 'n_estimators': 200}\n",
      "              precision    recall  f1-score   support\n",
      "\n",
      "           0       0.81      0.80      0.80       123\n",
      "           1       0.84      0.85      0.84       153\n",
      "\n",
      "    accuracy                           0.83       276\n",
      "   macro avg       0.82      0.82      0.82       276\n",
      "weighted avg       0.83      0.83      0.83       276\n",
      "\n"
     ]
    }
   ],
   "source": [
    "print(\"-\" * 30)\n",
    "print(\"Optimizando y Entrenando Random Forest Classifier...\")\n",
    "rf_params = {\n",
    "    'n_estimators': [100, 200],\n",
    "    'max_depth': [5, 10, None], # Reduced options for speed\n",
    "    'min_samples_leaf': [1, 3, 5]\n",
    "}\n",
    "# Use 'f1_weighted' as scoring for imbalanced datasets potentially\n",
    "rf_grid = GridSearchCV(RandomForestClassifier(random_state=42, n_jobs=-1), rf_params, cv=3, scoring='f1_weighted', verbose=1)\n",
    "rf_grid.fit(X_train, y_train)\n",
    "model_rf = rf_grid.best_estimator_\n",
    "\n",
    "y_pred_rf = model_rf.predict(X_test)\n",
    "report_rf = classification_report(y_test, y_pred_rf, output_dict=True)\n",
    "accuracy_rf = accuracy_score(y_test, y_pred_rf)\n",
    "\n",
    "print(\"\\nRandom Forest optimizado:\")\n",
    "print(f\"  Mejores Parámetros: {rf_grid.best_params_}\")\n",
    "print(classification_report(y_test, y_pred_rf))\n",
    "class_reports['Random Forest'] = report_rf\n",
    "model_metrics.append({'Model': 'Random Forest',\n",
    "                      'Accuracy': accuracy_rf,\n",
    "                      'Precision (w)': report_rf['weighted avg']['precision'],\n",
    "                      'Recall (w)': report_rf['weighted avg']['recall'],\n",
    "                      'F1-Score (w)': report_rf['weighted avg']['f1-score']})"
   ]
  },
  {
   "cell_type": "markdown",
   "id": "90fe4af7",
   "metadata": {},
   "source": [
    " ### Modelo de XGBoost Classifier"
   ]
  },
  {
   "cell_type": "code",
   "execution_count": 95,
   "id": "8fb76059",
   "metadata": {},
   "outputs": [
    {
     "name": "stdout",
     "output_type": "stream",
     "text": [
      "------------------------------\n",
      "Optimizando y Entrenando XGBoost Classifier...\n",
      "Fitting 3 folds for each of 8 candidates, totalling 24 fits\n",
      "\n",
      "XGBoost optimizado:\n",
      "  Mejores Parámetros: {'learning_rate': 0.05, 'max_depth': 5, 'n_estimators': 100}\n",
      "              precision    recall  f1-score   support\n",
      "\n",
      "           0       0.80      0.80      0.80       123\n",
      "           1       0.84      0.84      0.84       153\n",
      "\n",
      "    accuracy                           0.82       276\n",
      "   macro avg       0.82      0.82      0.82       276\n",
      "weighted avg       0.82      0.82      0.82       276\n",
      "\n",
      "------------------------------\n"
     ]
    }
   ],
   "source": [
    "# --- XGBoost Classifier ---\n",
    "print(\"-\" * 30)\n",
    "print(\"Optimizando y Entrenando XGBoost Classifier...\")\n",
    "xgb_params = {\n",
    "    'n_estimators': [50, 100],\n",
    "    'max_depth': [3, 5],\n",
    "    'learning_rate': [0.05, 0.1]\n",
    "}\n",
    "# Elimina 'use_label_encoder=False' de la definición del clasificador\n",
    "xgb_grid = GridSearchCV(XGBClassifier(objective='binary:logistic', random_state=42, n_jobs=-1, eval_metric='logloss'), # <-- Parámetro eliminado\n",
    "                        xgb_params, cv=3, scoring='f1_weighted', verbose=1)\n",
    "xgb_grid.fit(X_train, y_train) # Asume que y_train ya es numérico (0/1)\n",
    "model_xgb = xgb_grid.best_estimator_\n",
    "\n",
    "y_pred_xgb = model_xgb.predict(X_test)\n",
    "report_xgb = classification_report(y_test, y_pred_xgb, output_dict=True)\n",
    "accuracy_xgb = accuracy_score(y_test, y_pred_xgb)\n",
    "\n",
    "print(\"\\nXGBoost optimizado:\")\n",
    "print(f\"  Mejores Parámetros: {xgb_grid.best_params_}\")\n",
    "print(classification_report(y_test, y_pred_xgb))\n",
    "class_reports['XGBoost'] = report_xgb\n",
    "model_metrics.append({'Model': 'XGBoost',\n",
    "                      'Accuracy': accuracy_xgb,\n",
    "                      'Precision (w)': report_xgb['weighted avg']['precision'],\n",
    "                      'Recall (w)': report_xgb['weighted avg']['recall'],\n",
    "                      'F1-Score (w)': report_xgb['weighted avg']['f1-score']})\n",
    "print(\"-\" * 30)"
   ]
  },
  {
   "cell_type": "markdown",
   "id": "90f19715",
   "metadata": {},
   "source": [
    "#  --- Comparación de Modelos ---\n"
   ]
  },
  {
   "cell_type": "code",
   "execution_count": 96,
   "id": "2691a07e",
   "metadata": {},
   "outputs": [
    {
     "name": "stdout",
     "output_type": "stream",
     "text": [
      "\n",
      "Tabla Comparativa de Métricas Agregadas:\n",
      "                 Model  Accuracy  Precision (w)  Recall (w)  F1-Score (w)\n",
      "0  Logistic Regression  0.826087       0.826432    0.826087      0.826216\n",
      "1        Random Forest  0.826087       0.825878    0.826087      0.825939\n",
      "2              XGBoost  0.822464       0.822339    0.822464      0.822391\n"
     ]
    },
    {
     "data": {
      "application/vnd.plotly.v1+json": {
       "config": {
        "plotlyServerURL": "https://plot.ly"
       },
       "data": [
        {
         "hovertemplate": "Modelo=%{x}<br>Accuracy Score=%{text}<extra></extra>",
         "legendgroup": "Logistic Regression",
         "marker": {
          "color": "#636efa",
          "pattern": {
           "shape": ""
          }
         },
         "name": "Logistic Regression",
         "orientation": "v",
         "showlegend": true,
         "text": {
          "bdata": "pze96U1v6j8=",
          "dtype": "f8"
         },
         "textposition": "outside",
         "texttemplate": "%{text:.3f}",
         "type": "bar",
         "x": [
          "Logistic Regression"
         ],
         "xaxis": "x",
         "y": {
          "bdata": "pze96U1v6j8=",
          "dtype": "f8"
         },
         "yaxis": "y"
        },
        {
         "hovertemplate": "Modelo=%{x}<br>Accuracy Score=%{text}<extra></extra>",
         "legendgroup": "Random Forest",
         "marker": {
          "color": "#EF553B",
          "pattern": {
           "shape": ""
          }
         },
         "name": "Random Forest",
         "orientation": "v",
         "showlegend": true,
         "text": {
          "bdata": "pze96U1v6j8=",
          "dtype": "f8"
         },
         "textposition": "outside",
         "texttemplate": "%{text:.3f}",
         "type": "bar",
         "x": [
          "Random Forest"
         ],
         "xaxis": "x",
         "y": {
          "bdata": "pze96U1v6j8=",
          "dtype": "f8"
         },
         "yaxis": "y"
        },
        {
         "hovertemplate": "Modelo=%{x}<br>Accuracy Score=%{text}<extra></extra>",
         "legendgroup": "XGBoost",
         "marker": {
          "color": "#00cc96",
          "pattern": {
           "shape": ""
          }
         },
         "name": "XGBoost",
         "orientation": "v",
         "showlegend": true,
         "text": {
          "bdata": "JX5GiZ9R6j8=",
          "dtype": "f8"
         },
         "textposition": "outside",
         "texttemplate": "%{text:.3f}",
         "type": "bar",
         "x": [
          "XGBoost"
         ],
         "xaxis": "x",
         "y": {
          "bdata": "JX5GiZ9R6j8=",
          "dtype": "f8"
         },
         "yaxis": "y"
        }
       ],
       "layout": {
        "barmode": "relative",
        "legend": {
         "title": {
          "text": "Modelo"
         },
         "tracegroupgap": 0
        },
        "template": {
         "data": {
          "bar": [
           {
            "error_x": {
             "color": "#f2f5fa"
            },
            "error_y": {
             "color": "#f2f5fa"
            },
            "marker": {
             "line": {
              "color": "rgb(17,17,17)",
              "width": 0.5
             },
             "pattern": {
              "fillmode": "overlay",
              "size": 10,
              "solidity": 0.2
             }
            },
            "type": "bar"
           }
          ],
          "barpolar": [
           {
            "marker": {
             "line": {
              "color": "rgb(17,17,17)",
              "width": 0.5
             },
             "pattern": {
              "fillmode": "overlay",
              "size": 10,
              "solidity": 0.2
             }
            },
            "type": "barpolar"
           }
          ],
          "carpet": [
           {
            "aaxis": {
             "endlinecolor": "#A2B1C6",
             "gridcolor": "#506784",
             "linecolor": "#506784",
             "minorgridcolor": "#506784",
             "startlinecolor": "#A2B1C6"
            },
            "baxis": {
             "endlinecolor": "#A2B1C6",
             "gridcolor": "#506784",
             "linecolor": "#506784",
             "minorgridcolor": "#506784",
             "startlinecolor": "#A2B1C6"
            },
            "type": "carpet"
           }
          ],
          "choropleth": [
           {
            "colorbar": {
             "outlinewidth": 0,
             "ticks": ""
            },
            "type": "choropleth"
           }
          ],
          "contour": [
           {
            "colorbar": {
             "outlinewidth": 0,
             "ticks": ""
            },
            "colorscale": [
             [
              0,
              "#0d0887"
             ],
             [
              0.1111111111111111,
              "#46039f"
             ],
             [
              0.2222222222222222,
              "#7201a8"
             ],
             [
              0.3333333333333333,
              "#9c179e"
             ],
             [
              0.4444444444444444,
              "#bd3786"
             ],
             [
              0.5555555555555556,
              "#d8576b"
             ],
             [
              0.6666666666666666,
              "#ed7953"
             ],
             [
              0.7777777777777778,
              "#fb9f3a"
             ],
             [
              0.8888888888888888,
              "#fdca26"
             ],
             [
              1,
              "#f0f921"
             ]
            ],
            "type": "contour"
           }
          ],
          "contourcarpet": [
           {
            "colorbar": {
             "outlinewidth": 0,
             "ticks": ""
            },
            "type": "contourcarpet"
           }
          ],
          "heatmap": [
           {
            "colorbar": {
             "outlinewidth": 0,
             "ticks": ""
            },
            "colorscale": [
             [
              0,
              "#0d0887"
             ],
             [
              0.1111111111111111,
              "#46039f"
             ],
             [
              0.2222222222222222,
              "#7201a8"
             ],
             [
              0.3333333333333333,
              "#9c179e"
             ],
             [
              0.4444444444444444,
              "#bd3786"
             ],
             [
              0.5555555555555556,
              "#d8576b"
             ],
             [
              0.6666666666666666,
              "#ed7953"
             ],
             [
              0.7777777777777778,
              "#fb9f3a"
             ],
             [
              0.8888888888888888,
              "#fdca26"
             ],
             [
              1,
              "#f0f921"
             ]
            ],
            "type": "heatmap"
           }
          ],
          "histogram": [
           {
            "marker": {
             "pattern": {
              "fillmode": "overlay",
              "size": 10,
              "solidity": 0.2
             }
            },
            "type": "histogram"
           }
          ],
          "histogram2d": [
           {
            "colorbar": {
             "outlinewidth": 0,
             "ticks": ""
            },
            "colorscale": [
             [
              0,
              "#0d0887"
             ],
             [
              0.1111111111111111,
              "#46039f"
             ],
             [
              0.2222222222222222,
              "#7201a8"
             ],
             [
              0.3333333333333333,
              "#9c179e"
             ],
             [
              0.4444444444444444,
              "#bd3786"
             ],
             [
              0.5555555555555556,
              "#d8576b"
             ],
             [
              0.6666666666666666,
              "#ed7953"
             ],
             [
              0.7777777777777778,
              "#fb9f3a"
             ],
             [
              0.8888888888888888,
              "#fdca26"
             ],
             [
              1,
              "#f0f921"
             ]
            ],
            "type": "histogram2d"
           }
          ],
          "histogram2dcontour": [
           {
            "colorbar": {
             "outlinewidth": 0,
             "ticks": ""
            },
            "colorscale": [
             [
              0,
              "#0d0887"
             ],
             [
              0.1111111111111111,
              "#46039f"
             ],
             [
              0.2222222222222222,
              "#7201a8"
             ],
             [
              0.3333333333333333,
              "#9c179e"
             ],
             [
              0.4444444444444444,
              "#bd3786"
             ],
             [
              0.5555555555555556,
              "#d8576b"
             ],
             [
              0.6666666666666666,
              "#ed7953"
             ],
             [
              0.7777777777777778,
              "#fb9f3a"
             ],
             [
              0.8888888888888888,
              "#fdca26"
             ],
             [
              1,
              "#f0f921"
             ]
            ],
            "type": "histogram2dcontour"
           }
          ],
          "mesh3d": [
           {
            "colorbar": {
             "outlinewidth": 0,
             "ticks": ""
            },
            "type": "mesh3d"
           }
          ],
          "parcoords": [
           {
            "line": {
             "colorbar": {
              "outlinewidth": 0,
              "ticks": ""
             }
            },
            "type": "parcoords"
           }
          ],
          "pie": [
           {
            "automargin": true,
            "type": "pie"
           }
          ],
          "scatter": [
           {
            "marker": {
             "line": {
              "color": "#283442"
             }
            },
            "type": "scatter"
           }
          ],
          "scatter3d": [
           {
            "line": {
             "colorbar": {
              "outlinewidth": 0,
              "ticks": ""
             }
            },
            "marker": {
             "colorbar": {
              "outlinewidth": 0,
              "ticks": ""
             }
            },
            "type": "scatter3d"
           }
          ],
          "scattercarpet": [
           {
            "marker": {
             "colorbar": {
              "outlinewidth": 0,
              "ticks": ""
             }
            },
            "type": "scattercarpet"
           }
          ],
          "scattergeo": [
           {
            "marker": {
             "colorbar": {
              "outlinewidth": 0,
              "ticks": ""
             }
            },
            "type": "scattergeo"
           }
          ],
          "scattergl": [
           {
            "marker": {
             "line": {
              "color": "#283442"
             }
            },
            "type": "scattergl"
           }
          ],
          "scattermap": [
           {
            "marker": {
             "colorbar": {
              "outlinewidth": 0,
              "ticks": ""
             }
            },
            "type": "scattermap"
           }
          ],
          "scattermapbox": [
           {
            "marker": {
             "colorbar": {
              "outlinewidth": 0,
              "ticks": ""
             }
            },
            "type": "scattermapbox"
           }
          ],
          "scatterpolar": [
           {
            "marker": {
             "colorbar": {
              "outlinewidth": 0,
              "ticks": ""
             }
            },
            "type": "scatterpolar"
           }
          ],
          "scatterpolargl": [
           {
            "marker": {
             "colorbar": {
              "outlinewidth": 0,
              "ticks": ""
             }
            },
            "type": "scatterpolargl"
           }
          ],
          "scatterternary": [
           {
            "marker": {
             "colorbar": {
              "outlinewidth": 0,
              "ticks": ""
             }
            },
            "type": "scatterternary"
           }
          ],
          "surface": [
           {
            "colorbar": {
             "outlinewidth": 0,
             "ticks": ""
            },
            "colorscale": [
             [
              0,
              "#0d0887"
             ],
             [
              0.1111111111111111,
              "#46039f"
             ],
             [
              0.2222222222222222,
              "#7201a8"
             ],
             [
              0.3333333333333333,
              "#9c179e"
             ],
             [
              0.4444444444444444,
              "#bd3786"
             ],
             [
              0.5555555555555556,
              "#d8576b"
             ],
             [
              0.6666666666666666,
              "#ed7953"
             ],
             [
              0.7777777777777778,
              "#fb9f3a"
             ],
             [
              0.8888888888888888,
              "#fdca26"
             ],
             [
              1,
              "#f0f921"
             ]
            ],
            "type": "surface"
           }
          ],
          "table": [
           {
            "cells": {
             "fill": {
              "color": "#506784"
             },
             "line": {
              "color": "rgb(17,17,17)"
             }
            },
            "header": {
             "fill": {
              "color": "#2a3f5f"
             },
             "line": {
              "color": "rgb(17,17,17)"
             }
            },
            "type": "table"
           }
          ]
         },
         "layout": {
          "annotationdefaults": {
           "arrowcolor": "#f2f5fa",
           "arrowhead": 0,
           "arrowwidth": 1
          },
          "autotypenumbers": "strict",
          "coloraxis": {
           "colorbar": {
            "outlinewidth": 0,
            "ticks": ""
           }
          },
          "colorscale": {
           "diverging": [
            [
             0,
             "#8e0152"
            ],
            [
             0.1,
             "#c51b7d"
            ],
            [
             0.2,
             "#de77ae"
            ],
            [
             0.3,
             "#f1b6da"
            ],
            [
             0.4,
             "#fde0ef"
            ],
            [
             0.5,
             "#f7f7f7"
            ],
            [
             0.6,
             "#e6f5d0"
            ],
            [
             0.7,
             "#b8e186"
            ],
            [
             0.8,
             "#7fbc41"
            ],
            [
             0.9,
             "#4d9221"
            ],
            [
             1,
             "#276419"
            ]
           ],
           "sequential": [
            [
             0,
             "#0d0887"
            ],
            [
             0.1111111111111111,
             "#46039f"
            ],
            [
             0.2222222222222222,
             "#7201a8"
            ],
            [
             0.3333333333333333,
             "#9c179e"
            ],
            [
             0.4444444444444444,
             "#bd3786"
            ],
            [
             0.5555555555555556,
             "#d8576b"
            ],
            [
             0.6666666666666666,
             "#ed7953"
            ],
            [
             0.7777777777777778,
             "#fb9f3a"
            ],
            [
             0.8888888888888888,
             "#fdca26"
            ],
            [
             1,
             "#f0f921"
            ]
           ],
           "sequentialminus": [
            [
             0,
             "#0d0887"
            ],
            [
             0.1111111111111111,
             "#46039f"
            ],
            [
             0.2222222222222222,
             "#7201a8"
            ],
            [
             0.3333333333333333,
             "#9c179e"
            ],
            [
             0.4444444444444444,
             "#bd3786"
            ],
            [
             0.5555555555555556,
             "#d8576b"
            ],
            [
             0.6666666666666666,
             "#ed7953"
            ],
            [
             0.7777777777777778,
             "#fb9f3a"
            ],
            [
             0.8888888888888888,
             "#fdca26"
            ],
            [
             1,
             "#f0f921"
            ]
           ]
          },
          "colorway": [
           "#636efa",
           "#EF553B",
           "#00cc96",
           "#ab63fa",
           "#FFA15A",
           "#19d3f3",
           "#FF6692",
           "#B6E880",
           "#FF97FF",
           "#FECB52"
          ],
          "font": {
           "color": "#f2f5fa"
          },
          "geo": {
           "bgcolor": "rgb(17,17,17)",
           "lakecolor": "rgb(17,17,17)",
           "landcolor": "rgb(17,17,17)",
           "showlakes": true,
           "showland": true,
           "subunitcolor": "#506784"
          },
          "hoverlabel": {
           "align": "left"
          },
          "hovermode": "closest",
          "mapbox": {
           "style": "dark"
          },
          "paper_bgcolor": "rgb(17,17,17)",
          "plot_bgcolor": "rgb(17,17,17)",
          "polar": {
           "angularaxis": {
            "gridcolor": "#506784",
            "linecolor": "#506784",
            "ticks": ""
           },
           "bgcolor": "rgb(17,17,17)",
           "radialaxis": {
            "gridcolor": "#506784",
            "linecolor": "#506784",
            "ticks": ""
           }
          },
          "scene": {
           "xaxis": {
            "backgroundcolor": "rgb(17,17,17)",
            "gridcolor": "#506784",
            "gridwidth": 2,
            "linecolor": "#506784",
            "showbackground": true,
            "ticks": "",
            "zerolinecolor": "#C8D4E3"
           },
           "yaxis": {
            "backgroundcolor": "rgb(17,17,17)",
            "gridcolor": "#506784",
            "gridwidth": 2,
            "linecolor": "#506784",
            "showbackground": true,
            "ticks": "",
            "zerolinecolor": "#C8D4E3"
           },
           "zaxis": {
            "backgroundcolor": "rgb(17,17,17)",
            "gridcolor": "#506784",
            "gridwidth": 2,
            "linecolor": "#506784",
            "showbackground": true,
            "ticks": "",
            "zerolinecolor": "#C8D4E3"
           }
          },
          "shapedefaults": {
           "line": {
            "color": "#f2f5fa"
           }
          },
          "sliderdefaults": {
           "bgcolor": "#C8D4E3",
           "bordercolor": "rgb(17,17,17)",
           "borderwidth": 1,
           "tickwidth": 0
          },
          "ternary": {
           "aaxis": {
            "gridcolor": "#506784",
            "linecolor": "#506784",
            "ticks": ""
           },
           "baxis": {
            "gridcolor": "#506784",
            "linecolor": "#506784",
            "ticks": ""
           },
           "bgcolor": "rgb(17,17,17)",
           "caxis": {
            "gridcolor": "#506784",
            "linecolor": "#506784",
            "ticks": ""
           }
          },
          "title": {
           "x": 0.05
          },
          "updatemenudefaults": {
           "bgcolor": "#506784",
           "borderwidth": 0
          },
          "xaxis": {
           "automargin": true,
           "gridcolor": "#283442",
           "linecolor": "#506784",
           "ticks": "",
           "title": {
            "standoff": 15
           },
           "zerolinecolor": "#283442",
           "zerolinewidth": 2
          },
          "yaxis": {
           "automargin": true,
           "gridcolor": "#283442",
           "linecolor": "#506784",
           "ticks": "",
           "title": {
            "standoff": 15
           },
           "zerolinecolor": "#283442",
           "zerolinewidth": 2
          }
         }
        },
        "title": {
         "text": "Comparación de Accuracy por Modelo"
        },
        "xaxis": {
         "anchor": "y",
         "categoryarray": [
          "Logistic Regression",
          "Random Forest",
          "XGBoost"
         ],
         "categoryorder": "total descending",
         "domain": [
          0,
          1
         ],
         "title": {
          "text": "Modelo"
         }
        },
        "yaxis": {
         "anchor": "x",
         "domain": [
          0,
          1
         ],
         "title": {
          "text": "Accuracy Score"
         }
        }
       }
      }
     },
     "metadata": {},
     "output_type": "display_data"
    },
    {
     "data": {
      "application/vnd.plotly.v1+json": {
       "config": {
        "plotlyServerURL": "https://plot.ly"
       },
       "data": [
        {
         "hovertemplate": "Modelo=%{x}<br>F1-Score (Weighted Avg)=%{text}<extra></extra>",
         "legendgroup": "Logistic Regression",
         "marker": {
          "color": "#636efa",
          "pattern": {
           "shape": ""
          }
         },
         "name": "Logistic Regression",
         "orientation": "v",
         "showlegend": true,
         "text": {
          "bdata": "Kmqq0lxw6j8=",
          "dtype": "f8"
         },
         "textposition": "outside",
         "texttemplate": "%{text:.3f}",
         "type": "bar",
         "x": [
          "Logistic Regression"
         ],
         "xaxis": "x",
         "y": {
          "bdata": "Kmqq0lxw6j8=",
          "dtype": "f8"
         },
         "yaxis": "y"
        },
        {
         "hovertemplate": "Modelo=%{x}<br>F1-Score (Weighted Avg)=%{text}<extra></extra>",
         "legendgroup": "Random Forest",
         "marker": {
          "color": "#EF553B",
          "pattern": {
           "shape": ""
          }
         },
         "name": "Random Forest",
         "orientation": "v",
         "showlegend": true,
         "text": {
          "bdata": "B44hUBdu6j8=",
          "dtype": "f8"
         },
         "textposition": "outside",
         "texttemplate": "%{text:.3f}",
         "type": "bar",
         "x": [
          "Random Forest"
         ],
         "xaxis": "x",
         "y": {
          "bdata": "B44hUBdu6j8=",
          "dtype": "f8"
         },
         "yaxis": "y"
        },
        {
         "hovertemplate": "Modelo=%{x}<br>F1-Score (Weighted Avg)=%{text}<extra></extra>",
         "legendgroup": "XGBoost",
         "marker": {
          "color": "#00cc96",
          "pattern": {
           "shape": ""
          }
         },
         "name": "XGBoost",
         "orientation": "v",
         "showlegend": true,
         "text": {
          "bdata": "OnRrFQZR6j8=",
          "dtype": "f8"
         },
         "textposition": "outside",
         "texttemplate": "%{text:.3f}",
         "type": "bar",
         "x": [
          "XGBoost"
         ],
         "xaxis": "x",
         "y": {
          "bdata": "OnRrFQZR6j8=",
          "dtype": "f8"
         },
         "yaxis": "y"
        }
       ],
       "layout": {
        "barmode": "relative",
        "legend": {
         "title": {
          "text": "Modelo"
         },
         "tracegroupgap": 0
        },
        "template": {
         "data": {
          "bar": [
           {
            "error_x": {
             "color": "#f2f5fa"
            },
            "error_y": {
             "color": "#f2f5fa"
            },
            "marker": {
             "line": {
              "color": "rgb(17,17,17)",
              "width": 0.5
             },
             "pattern": {
              "fillmode": "overlay",
              "size": 10,
              "solidity": 0.2
             }
            },
            "type": "bar"
           }
          ],
          "barpolar": [
           {
            "marker": {
             "line": {
              "color": "rgb(17,17,17)",
              "width": 0.5
             },
             "pattern": {
              "fillmode": "overlay",
              "size": 10,
              "solidity": 0.2
             }
            },
            "type": "barpolar"
           }
          ],
          "carpet": [
           {
            "aaxis": {
             "endlinecolor": "#A2B1C6",
             "gridcolor": "#506784",
             "linecolor": "#506784",
             "minorgridcolor": "#506784",
             "startlinecolor": "#A2B1C6"
            },
            "baxis": {
             "endlinecolor": "#A2B1C6",
             "gridcolor": "#506784",
             "linecolor": "#506784",
             "minorgridcolor": "#506784",
             "startlinecolor": "#A2B1C6"
            },
            "type": "carpet"
           }
          ],
          "choropleth": [
           {
            "colorbar": {
             "outlinewidth": 0,
             "ticks": ""
            },
            "type": "choropleth"
           }
          ],
          "contour": [
           {
            "colorbar": {
             "outlinewidth": 0,
             "ticks": ""
            },
            "colorscale": [
             [
              0,
              "#0d0887"
             ],
             [
              0.1111111111111111,
              "#46039f"
             ],
             [
              0.2222222222222222,
              "#7201a8"
             ],
             [
              0.3333333333333333,
              "#9c179e"
             ],
             [
              0.4444444444444444,
              "#bd3786"
             ],
             [
              0.5555555555555556,
              "#d8576b"
             ],
             [
              0.6666666666666666,
              "#ed7953"
             ],
             [
              0.7777777777777778,
              "#fb9f3a"
             ],
             [
              0.8888888888888888,
              "#fdca26"
             ],
             [
              1,
              "#f0f921"
             ]
            ],
            "type": "contour"
           }
          ],
          "contourcarpet": [
           {
            "colorbar": {
             "outlinewidth": 0,
             "ticks": ""
            },
            "type": "contourcarpet"
           }
          ],
          "heatmap": [
           {
            "colorbar": {
             "outlinewidth": 0,
             "ticks": ""
            },
            "colorscale": [
             [
              0,
              "#0d0887"
             ],
             [
              0.1111111111111111,
              "#46039f"
             ],
             [
              0.2222222222222222,
              "#7201a8"
             ],
             [
              0.3333333333333333,
              "#9c179e"
             ],
             [
              0.4444444444444444,
              "#bd3786"
             ],
             [
              0.5555555555555556,
              "#d8576b"
             ],
             [
              0.6666666666666666,
              "#ed7953"
             ],
             [
              0.7777777777777778,
              "#fb9f3a"
             ],
             [
              0.8888888888888888,
              "#fdca26"
             ],
             [
              1,
              "#f0f921"
             ]
            ],
            "type": "heatmap"
           }
          ],
          "histogram": [
           {
            "marker": {
             "pattern": {
              "fillmode": "overlay",
              "size": 10,
              "solidity": 0.2
             }
            },
            "type": "histogram"
           }
          ],
          "histogram2d": [
           {
            "colorbar": {
             "outlinewidth": 0,
             "ticks": ""
            },
            "colorscale": [
             [
              0,
              "#0d0887"
             ],
             [
              0.1111111111111111,
              "#46039f"
             ],
             [
              0.2222222222222222,
              "#7201a8"
             ],
             [
              0.3333333333333333,
              "#9c179e"
             ],
             [
              0.4444444444444444,
              "#bd3786"
             ],
             [
              0.5555555555555556,
              "#d8576b"
             ],
             [
              0.6666666666666666,
              "#ed7953"
             ],
             [
              0.7777777777777778,
              "#fb9f3a"
             ],
             [
              0.8888888888888888,
              "#fdca26"
             ],
             [
              1,
              "#f0f921"
             ]
            ],
            "type": "histogram2d"
           }
          ],
          "histogram2dcontour": [
           {
            "colorbar": {
             "outlinewidth": 0,
             "ticks": ""
            },
            "colorscale": [
             [
              0,
              "#0d0887"
             ],
             [
              0.1111111111111111,
              "#46039f"
             ],
             [
              0.2222222222222222,
              "#7201a8"
             ],
             [
              0.3333333333333333,
              "#9c179e"
             ],
             [
              0.4444444444444444,
              "#bd3786"
             ],
             [
              0.5555555555555556,
              "#d8576b"
             ],
             [
              0.6666666666666666,
              "#ed7953"
             ],
             [
              0.7777777777777778,
              "#fb9f3a"
             ],
             [
              0.8888888888888888,
              "#fdca26"
             ],
             [
              1,
              "#f0f921"
             ]
            ],
            "type": "histogram2dcontour"
           }
          ],
          "mesh3d": [
           {
            "colorbar": {
             "outlinewidth": 0,
             "ticks": ""
            },
            "type": "mesh3d"
           }
          ],
          "parcoords": [
           {
            "line": {
             "colorbar": {
              "outlinewidth": 0,
              "ticks": ""
             }
            },
            "type": "parcoords"
           }
          ],
          "pie": [
           {
            "automargin": true,
            "type": "pie"
           }
          ],
          "scatter": [
           {
            "marker": {
             "line": {
              "color": "#283442"
             }
            },
            "type": "scatter"
           }
          ],
          "scatter3d": [
           {
            "line": {
             "colorbar": {
              "outlinewidth": 0,
              "ticks": ""
             }
            },
            "marker": {
             "colorbar": {
              "outlinewidth": 0,
              "ticks": ""
             }
            },
            "type": "scatter3d"
           }
          ],
          "scattercarpet": [
           {
            "marker": {
             "colorbar": {
              "outlinewidth": 0,
              "ticks": ""
             }
            },
            "type": "scattercarpet"
           }
          ],
          "scattergeo": [
           {
            "marker": {
             "colorbar": {
              "outlinewidth": 0,
              "ticks": ""
             }
            },
            "type": "scattergeo"
           }
          ],
          "scattergl": [
           {
            "marker": {
             "line": {
              "color": "#283442"
             }
            },
            "type": "scattergl"
           }
          ],
          "scattermap": [
           {
            "marker": {
             "colorbar": {
              "outlinewidth": 0,
              "ticks": ""
             }
            },
            "type": "scattermap"
           }
          ],
          "scattermapbox": [
           {
            "marker": {
             "colorbar": {
              "outlinewidth": 0,
              "ticks": ""
             }
            },
            "type": "scattermapbox"
           }
          ],
          "scatterpolar": [
           {
            "marker": {
             "colorbar": {
              "outlinewidth": 0,
              "ticks": ""
             }
            },
            "type": "scatterpolar"
           }
          ],
          "scatterpolargl": [
           {
            "marker": {
             "colorbar": {
              "outlinewidth": 0,
              "ticks": ""
             }
            },
            "type": "scatterpolargl"
           }
          ],
          "scatterternary": [
           {
            "marker": {
             "colorbar": {
              "outlinewidth": 0,
              "ticks": ""
             }
            },
            "type": "scatterternary"
           }
          ],
          "surface": [
           {
            "colorbar": {
             "outlinewidth": 0,
             "ticks": ""
            },
            "colorscale": [
             [
              0,
              "#0d0887"
             ],
             [
              0.1111111111111111,
              "#46039f"
             ],
             [
              0.2222222222222222,
              "#7201a8"
             ],
             [
              0.3333333333333333,
              "#9c179e"
             ],
             [
              0.4444444444444444,
              "#bd3786"
             ],
             [
              0.5555555555555556,
              "#d8576b"
             ],
             [
              0.6666666666666666,
              "#ed7953"
             ],
             [
              0.7777777777777778,
              "#fb9f3a"
             ],
             [
              0.8888888888888888,
              "#fdca26"
             ],
             [
              1,
              "#f0f921"
             ]
            ],
            "type": "surface"
           }
          ],
          "table": [
           {
            "cells": {
             "fill": {
              "color": "#506784"
             },
             "line": {
              "color": "rgb(17,17,17)"
             }
            },
            "header": {
             "fill": {
              "color": "#2a3f5f"
             },
             "line": {
              "color": "rgb(17,17,17)"
             }
            },
            "type": "table"
           }
          ]
         },
         "layout": {
          "annotationdefaults": {
           "arrowcolor": "#f2f5fa",
           "arrowhead": 0,
           "arrowwidth": 1
          },
          "autotypenumbers": "strict",
          "coloraxis": {
           "colorbar": {
            "outlinewidth": 0,
            "ticks": ""
           }
          },
          "colorscale": {
           "diverging": [
            [
             0,
             "#8e0152"
            ],
            [
             0.1,
             "#c51b7d"
            ],
            [
             0.2,
             "#de77ae"
            ],
            [
             0.3,
             "#f1b6da"
            ],
            [
             0.4,
             "#fde0ef"
            ],
            [
             0.5,
             "#f7f7f7"
            ],
            [
             0.6,
             "#e6f5d0"
            ],
            [
             0.7,
             "#b8e186"
            ],
            [
             0.8,
             "#7fbc41"
            ],
            [
             0.9,
             "#4d9221"
            ],
            [
             1,
             "#276419"
            ]
           ],
           "sequential": [
            [
             0,
             "#0d0887"
            ],
            [
             0.1111111111111111,
             "#46039f"
            ],
            [
             0.2222222222222222,
             "#7201a8"
            ],
            [
             0.3333333333333333,
             "#9c179e"
            ],
            [
             0.4444444444444444,
             "#bd3786"
            ],
            [
             0.5555555555555556,
             "#d8576b"
            ],
            [
             0.6666666666666666,
             "#ed7953"
            ],
            [
             0.7777777777777778,
             "#fb9f3a"
            ],
            [
             0.8888888888888888,
             "#fdca26"
            ],
            [
             1,
             "#f0f921"
            ]
           ],
           "sequentialminus": [
            [
             0,
             "#0d0887"
            ],
            [
             0.1111111111111111,
             "#46039f"
            ],
            [
             0.2222222222222222,
             "#7201a8"
            ],
            [
             0.3333333333333333,
             "#9c179e"
            ],
            [
             0.4444444444444444,
             "#bd3786"
            ],
            [
             0.5555555555555556,
             "#d8576b"
            ],
            [
             0.6666666666666666,
             "#ed7953"
            ],
            [
             0.7777777777777778,
             "#fb9f3a"
            ],
            [
             0.8888888888888888,
             "#fdca26"
            ],
            [
             1,
             "#f0f921"
            ]
           ]
          },
          "colorway": [
           "#636efa",
           "#EF553B",
           "#00cc96",
           "#ab63fa",
           "#FFA15A",
           "#19d3f3",
           "#FF6692",
           "#B6E880",
           "#FF97FF",
           "#FECB52"
          ],
          "font": {
           "color": "#f2f5fa"
          },
          "geo": {
           "bgcolor": "rgb(17,17,17)",
           "lakecolor": "rgb(17,17,17)",
           "landcolor": "rgb(17,17,17)",
           "showlakes": true,
           "showland": true,
           "subunitcolor": "#506784"
          },
          "hoverlabel": {
           "align": "left"
          },
          "hovermode": "closest",
          "mapbox": {
           "style": "dark"
          },
          "paper_bgcolor": "rgb(17,17,17)",
          "plot_bgcolor": "rgb(17,17,17)",
          "polar": {
           "angularaxis": {
            "gridcolor": "#506784",
            "linecolor": "#506784",
            "ticks": ""
           },
           "bgcolor": "rgb(17,17,17)",
           "radialaxis": {
            "gridcolor": "#506784",
            "linecolor": "#506784",
            "ticks": ""
           }
          },
          "scene": {
           "xaxis": {
            "backgroundcolor": "rgb(17,17,17)",
            "gridcolor": "#506784",
            "gridwidth": 2,
            "linecolor": "#506784",
            "showbackground": true,
            "ticks": "",
            "zerolinecolor": "#C8D4E3"
           },
           "yaxis": {
            "backgroundcolor": "rgb(17,17,17)",
            "gridcolor": "#506784",
            "gridwidth": 2,
            "linecolor": "#506784",
            "showbackground": true,
            "ticks": "",
            "zerolinecolor": "#C8D4E3"
           },
           "zaxis": {
            "backgroundcolor": "rgb(17,17,17)",
            "gridcolor": "#506784",
            "gridwidth": 2,
            "linecolor": "#506784",
            "showbackground": true,
            "ticks": "",
            "zerolinecolor": "#C8D4E3"
           }
          },
          "shapedefaults": {
           "line": {
            "color": "#f2f5fa"
           }
          },
          "sliderdefaults": {
           "bgcolor": "#C8D4E3",
           "bordercolor": "rgb(17,17,17)",
           "borderwidth": 1,
           "tickwidth": 0
          },
          "ternary": {
           "aaxis": {
            "gridcolor": "#506784",
            "linecolor": "#506784",
            "ticks": ""
           },
           "baxis": {
            "gridcolor": "#506784",
            "linecolor": "#506784",
            "ticks": ""
           },
           "bgcolor": "rgb(17,17,17)",
           "caxis": {
            "gridcolor": "#506784",
            "linecolor": "#506784",
            "ticks": ""
           }
          },
          "title": {
           "x": 0.05
          },
          "updatemenudefaults": {
           "bgcolor": "#506784",
           "borderwidth": 0
          },
          "xaxis": {
           "automargin": true,
           "gridcolor": "#283442",
           "linecolor": "#506784",
           "ticks": "",
           "title": {
            "standoff": 15
           },
           "zerolinecolor": "#283442",
           "zerolinewidth": 2
          },
          "yaxis": {
           "automargin": true,
           "gridcolor": "#283442",
           "linecolor": "#506784",
           "ticks": "",
           "title": {
            "standoff": 15
           },
           "zerolinecolor": "#283442",
           "zerolinewidth": 2
          }
         }
        },
        "title": {
         "text": "Comparación de F1-Score (Weighted) por Modelo"
        },
        "xaxis": {
         "anchor": "y",
         "categoryarray": [
          "Logistic Regression",
          "Random Forest",
          "XGBoost"
         ],
         "categoryorder": "total descending",
         "domain": [
          0,
          1
         ],
         "title": {
          "text": "Modelo"
         }
        },
        "yaxis": {
         "anchor": "x",
         "domain": [
          0,
          1
         ],
         "title": {
          "text": "F1-Score (Weighted Avg)"
         }
        }
       }
      }
     },
     "metadata": {},
     "output_type": "display_data"
    },
    {
     "data": {
      "application/vnd.plotly.v1+json": {
       "config": {
        "plotlyServerURL": "https://plot.ly"
       },
       "data": [
        {
         "alignmentgroup": "True",
         "hovertemplate": "Métrica=Precision (w)<br>Modelo=%{x}<br>Score=%{y}<extra></extra>",
         "legendgroup": "Precision (w)",
         "marker": {
          "color": "#636efa",
          "pattern": {
           "shape": ""
          }
         },
         "name": "Precision (w)",
         "offsetgroup": "Precision (w)",
         "orientation": "v",
         "showlegend": true,
         "textposition": "auto",
         "type": "bar",
         "x": [
          "Logistic Regression",
          "Random Forest",
          "XGBoost"
         ],
         "xaxis": "x",
         "y": {
          "bdata": "fSrGhiJy6j8G7ftcmG3qP3g5vEaaUOo/",
          "dtype": "f8"
         },
         "yaxis": "y"
        },
        {
         "alignmentgroup": "True",
         "hovertemplate": "Métrica=Recall (w)<br>Modelo=%{x}<br>Score=%{y}<extra></extra>",
         "legendgroup": "Recall (w)",
         "marker": {
          "color": "#EF553B",
          "pattern": {
           "shape": ""
          }
         },
         "name": "Recall (w)",
         "offsetgroup": "Recall (w)",
         "orientation": "v",
         "showlegend": true,
         "textposition": "auto",
         "type": "bar",
         "x": [
          "Logistic Regression",
          "Random Forest",
          "XGBoost"
         ],
         "xaxis": "x",
         "y": {
          "bdata": "pze96U1v6j+nN73pTW/qPyV+RomfUeo/",
          "dtype": "f8"
         },
         "yaxis": "y"
        }
       ],
       "layout": {
        "barmode": "group",
        "legend": {
         "title": {
          "text": "Métrica"
         },
         "tracegroupgap": 0
        },
        "template": {
         "data": {
          "bar": [
           {
            "error_x": {
             "color": "#f2f5fa"
            },
            "error_y": {
             "color": "#f2f5fa"
            },
            "marker": {
             "line": {
              "color": "rgb(17,17,17)",
              "width": 0.5
             },
             "pattern": {
              "fillmode": "overlay",
              "size": 10,
              "solidity": 0.2
             }
            },
            "type": "bar"
           }
          ],
          "barpolar": [
           {
            "marker": {
             "line": {
              "color": "rgb(17,17,17)",
              "width": 0.5
             },
             "pattern": {
              "fillmode": "overlay",
              "size": 10,
              "solidity": 0.2
             }
            },
            "type": "barpolar"
           }
          ],
          "carpet": [
           {
            "aaxis": {
             "endlinecolor": "#A2B1C6",
             "gridcolor": "#506784",
             "linecolor": "#506784",
             "minorgridcolor": "#506784",
             "startlinecolor": "#A2B1C6"
            },
            "baxis": {
             "endlinecolor": "#A2B1C6",
             "gridcolor": "#506784",
             "linecolor": "#506784",
             "minorgridcolor": "#506784",
             "startlinecolor": "#A2B1C6"
            },
            "type": "carpet"
           }
          ],
          "choropleth": [
           {
            "colorbar": {
             "outlinewidth": 0,
             "ticks": ""
            },
            "type": "choropleth"
           }
          ],
          "contour": [
           {
            "colorbar": {
             "outlinewidth": 0,
             "ticks": ""
            },
            "colorscale": [
             [
              0,
              "#0d0887"
             ],
             [
              0.1111111111111111,
              "#46039f"
             ],
             [
              0.2222222222222222,
              "#7201a8"
             ],
             [
              0.3333333333333333,
              "#9c179e"
             ],
             [
              0.4444444444444444,
              "#bd3786"
             ],
             [
              0.5555555555555556,
              "#d8576b"
             ],
             [
              0.6666666666666666,
              "#ed7953"
             ],
             [
              0.7777777777777778,
              "#fb9f3a"
             ],
             [
              0.8888888888888888,
              "#fdca26"
             ],
             [
              1,
              "#f0f921"
             ]
            ],
            "type": "contour"
           }
          ],
          "contourcarpet": [
           {
            "colorbar": {
             "outlinewidth": 0,
             "ticks": ""
            },
            "type": "contourcarpet"
           }
          ],
          "heatmap": [
           {
            "colorbar": {
             "outlinewidth": 0,
             "ticks": ""
            },
            "colorscale": [
             [
              0,
              "#0d0887"
             ],
             [
              0.1111111111111111,
              "#46039f"
             ],
             [
              0.2222222222222222,
              "#7201a8"
             ],
             [
              0.3333333333333333,
              "#9c179e"
             ],
             [
              0.4444444444444444,
              "#bd3786"
             ],
             [
              0.5555555555555556,
              "#d8576b"
             ],
             [
              0.6666666666666666,
              "#ed7953"
             ],
             [
              0.7777777777777778,
              "#fb9f3a"
             ],
             [
              0.8888888888888888,
              "#fdca26"
             ],
             [
              1,
              "#f0f921"
             ]
            ],
            "type": "heatmap"
           }
          ],
          "histogram": [
           {
            "marker": {
             "pattern": {
              "fillmode": "overlay",
              "size": 10,
              "solidity": 0.2
             }
            },
            "type": "histogram"
           }
          ],
          "histogram2d": [
           {
            "colorbar": {
             "outlinewidth": 0,
             "ticks": ""
            },
            "colorscale": [
             [
              0,
              "#0d0887"
             ],
             [
              0.1111111111111111,
              "#46039f"
             ],
             [
              0.2222222222222222,
              "#7201a8"
             ],
             [
              0.3333333333333333,
              "#9c179e"
             ],
             [
              0.4444444444444444,
              "#bd3786"
             ],
             [
              0.5555555555555556,
              "#d8576b"
             ],
             [
              0.6666666666666666,
              "#ed7953"
             ],
             [
              0.7777777777777778,
              "#fb9f3a"
             ],
             [
              0.8888888888888888,
              "#fdca26"
             ],
             [
              1,
              "#f0f921"
             ]
            ],
            "type": "histogram2d"
           }
          ],
          "histogram2dcontour": [
           {
            "colorbar": {
             "outlinewidth": 0,
             "ticks": ""
            },
            "colorscale": [
             [
              0,
              "#0d0887"
             ],
             [
              0.1111111111111111,
              "#46039f"
             ],
             [
              0.2222222222222222,
              "#7201a8"
             ],
             [
              0.3333333333333333,
              "#9c179e"
             ],
             [
              0.4444444444444444,
              "#bd3786"
             ],
             [
              0.5555555555555556,
              "#d8576b"
             ],
             [
              0.6666666666666666,
              "#ed7953"
             ],
             [
              0.7777777777777778,
              "#fb9f3a"
             ],
             [
              0.8888888888888888,
              "#fdca26"
             ],
             [
              1,
              "#f0f921"
             ]
            ],
            "type": "histogram2dcontour"
           }
          ],
          "mesh3d": [
           {
            "colorbar": {
             "outlinewidth": 0,
             "ticks": ""
            },
            "type": "mesh3d"
           }
          ],
          "parcoords": [
           {
            "line": {
             "colorbar": {
              "outlinewidth": 0,
              "ticks": ""
             }
            },
            "type": "parcoords"
           }
          ],
          "pie": [
           {
            "automargin": true,
            "type": "pie"
           }
          ],
          "scatter": [
           {
            "marker": {
             "line": {
              "color": "#283442"
             }
            },
            "type": "scatter"
           }
          ],
          "scatter3d": [
           {
            "line": {
             "colorbar": {
              "outlinewidth": 0,
              "ticks": ""
             }
            },
            "marker": {
             "colorbar": {
              "outlinewidth": 0,
              "ticks": ""
             }
            },
            "type": "scatter3d"
           }
          ],
          "scattercarpet": [
           {
            "marker": {
             "colorbar": {
              "outlinewidth": 0,
              "ticks": ""
             }
            },
            "type": "scattercarpet"
           }
          ],
          "scattergeo": [
           {
            "marker": {
             "colorbar": {
              "outlinewidth": 0,
              "ticks": ""
             }
            },
            "type": "scattergeo"
           }
          ],
          "scattergl": [
           {
            "marker": {
             "line": {
              "color": "#283442"
             }
            },
            "type": "scattergl"
           }
          ],
          "scattermap": [
           {
            "marker": {
             "colorbar": {
              "outlinewidth": 0,
              "ticks": ""
             }
            },
            "type": "scattermap"
           }
          ],
          "scattermapbox": [
           {
            "marker": {
             "colorbar": {
              "outlinewidth": 0,
              "ticks": ""
             }
            },
            "type": "scattermapbox"
           }
          ],
          "scatterpolar": [
           {
            "marker": {
             "colorbar": {
              "outlinewidth": 0,
              "ticks": ""
             }
            },
            "type": "scatterpolar"
           }
          ],
          "scatterpolargl": [
           {
            "marker": {
             "colorbar": {
              "outlinewidth": 0,
              "ticks": ""
             }
            },
            "type": "scatterpolargl"
           }
          ],
          "scatterternary": [
           {
            "marker": {
             "colorbar": {
              "outlinewidth": 0,
              "ticks": ""
             }
            },
            "type": "scatterternary"
           }
          ],
          "surface": [
           {
            "colorbar": {
             "outlinewidth": 0,
             "ticks": ""
            },
            "colorscale": [
             [
              0,
              "#0d0887"
             ],
             [
              0.1111111111111111,
              "#46039f"
             ],
             [
              0.2222222222222222,
              "#7201a8"
             ],
             [
              0.3333333333333333,
              "#9c179e"
             ],
             [
              0.4444444444444444,
              "#bd3786"
             ],
             [
              0.5555555555555556,
              "#d8576b"
             ],
             [
              0.6666666666666666,
              "#ed7953"
             ],
             [
              0.7777777777777778,
              "#fb9f3a"
             ],
             [
              0.8888888888888888,
              "#fdca26"
             ],
             [
              1,
              "#f0f921"
             ]
            ],
            "type": "surface"
           }
          ],
          "table": [
           {
            "cells": {
             "fill": {
              "color": "#506784"
             },
             "line": {
              "color": "rgb(17,17,17)"
             }
            },
            "header": {
             "fill": {
              "color": "#2a3f5f"
             },
             "line": {
              "color": "rgb(17,17,17)"
             }
            },
            "type": "table"
           }
          ]
         },
         "layout": {
          "annotationdefaults": {
           "arrowcolor": "#f2f5fa",
           "arrowhead": 0,
           "arrowwidth": 1
          },
          "autotypenumbers": "strict",
          "coloraxis": {
           "colorbar": {
            "outlinewidth": 0,
            "ticks": ""
           }
          },
          "colorscale": {
           "diverging": [
            [
             0,
             "#8e0152"
            ],
            [
             0.1,
             "#c51b7d"
            ],
            [
             0.2,
             "#de77ae"
            ],
            [
             0.3,
             "#f1b6da"
            ],
            [
             0.4,
             "#fde0ef"
            ],
            [
             0.5,
             "#f7f7f7"
            ],
            [
             0.6,
             "#e6f5d0"
            ],
            [
             0.7,
             "#b8e186"
            ],
            [
             0.8,
             "#7fbc41"
            ],
            [
             0.9,
             "#4d9221"
            ],
            [
             1,
             "#276419"
            ]
           ],
           "sequential": [
            [
             0,
             "#0d0887"
            ],
            [
             0.1111111111111111,
             "#46039f"
            ],
            [
             0.2222222222222222,
             "#7201a8"
            ],
            [
             0.3333333333333333,
             "#9c179e"
            ],
            [
             0.4444444444444444,
             "#bd3786"
            ],
            [
             0.5555555555555556,
             "#d8576b"
            ],
            [
             0.6666666666666666,
             "#ed7953"
            ],
            [
             0.7777777777777778,
             "#fb9f3a"
            ],
            [
             0.8888888888888888,
             "#fdca26"
            ],
            [
             1,
             "#f0f921"
            ]
           ],
           "sequentialminus": [
            [
             0,
             "#0d0887"
            ],
            [
             0.1111111111111111,
             "#46039f"
            ],
            [
             0.2222222222222222,
             "#7201a8"
            ],
            [
             0.3333333333333333,
             "#9c179e"
            ],
            [
             0.4444444444444444,
             "#bd3786"
            ],
            [
             0.5555555555555556,
             "#d8576b"
            ],
            [
             0.6666666666666666,
             "#ed7953"
            ],
            [
             0.7777777777777778,
             "#fb9f3a"
            ],
            [
             0.8888888888888888,
             "#fdca26"
            ],
            [
             1,
             "#f0f921"
            ]
           ]
          },
          "colorway": [
           "#636efa",
           "#EF553B",
           "#00cc96",
           "#ab63fa",
           "#FFA15A",
           "#19d3f3",
           "#FF6692",
           "#B6E880",
           "#FF97FF",
           "#FECB52"
          ],
          "font": {
           "color": "#f2f5fa"
          },
          "geo": {
           "bgcolor": "rgb(17,17,17)",
           "lakecolor": "rgb(17,17,17)",
           "landcolor": "rgb(17,17,17)",
           "showlakes": true,
           "showland": true,
           "subunitcolor": "#506784"
          },
          "hoverlabel": {
           "align": "left"
          },
          "hovermode": "closest",
          "mapbox": {
           "style": "dark"
          },
          "paper_bgcolor": "rgb(17,17,17)",
          "plot_bgcolor": "rgb(17,17,17)",
          "polar": {
           "angularaxis": {
            "gridcolor": "#506784",
            "linecolor": "#506784",
            "ticks": ""
           },
           "bgcolor": "rgb(17,17,17)",
           "radialaxis": {
            "gridcolor": "#506784",
            "linecolor": "#506784",
            "ticks": ""
           }
          },
          "scene": {
           "xaxis": {
            "backgroundcolor": "rgb(17,17,17)",
            "gridcolor": "#506784",
            "gridwidth": 2,
            "linecolor": "#506784",
            "showbackground": true,
            "ticks": "",
            "zerolinecolor": "#C8D4E3"
           },
           "yaxis": {
            "backgroundcolor": "rgb(17,17,17)",
            "gridcolor": "#506784",
            "gridwidth": 2,
            "linecolor": "#506784",
            "showbackground": true,
            "ticks": "",
            "zerolinecolor": "#C8D4E3"
           },
           "zaxis": {
            "backgroundcolor": "rgb(17,17,17)",
            "gridcolor": "#506784",
            "gridwidth": 2,
            "linecolor": "#506784",
            "showbackground": true,
            "ticks": "",
            "zerolinecolor": "#C8D4E3"
           }
          },
          "shapedefaults": {
           "line": {
            "color": "#f2f5fa"
           }
          },
          "sliderdefaults": {
           "bgcolor": "#C8D4E3",
           "bordercolor": "rgb(17,17,17)",
           "borderwidth": 1,
           "tickwidth": 0
          },
          "ternary": {
           "aaxis": {
            "gridcolor": "#506784",
            "linecolor": "#506784",
            "ticks": ""
           },
           "baxis": {
            "gridcolor": "#506784",
            "linecolor": "#506784",
            "ticks": ""
           },
           "bgcolor": "rgb(17,17,17)",
           "caxis": {
            "gridcolor": "#506784",
            "linecolor": "#506784",
            "ticks": ""
           }
          },
          "title": {
           "x": 0.05
          },
          "updatemenudefaults": {
           "bgcolor": "#506784",
           "borderwidth": 0
          },
          "xaxis": {
           "automargin": true,
           "gridcolor": "#283442",
           "linecolor": "#506784",
           "ticks": "",
           "title": {
            "standoff": 15
           },
           "zerolinecolor": "#283442",
           "zerolinewidth": 2
          },
          "yaxis": {
           "automargin": true,
           "gridcolor": "#283442",
           "linecolor": "#506784",
           "ticks": "",
           "title": {
            "standoff": 15
           },
           "zerolinecolor": "#283442",
           "zerolinewidth": 2
          }
         }
        },
        "title": {
         "text": "Comparación de Precision y Recall (Weighted) por Modelo"
        },
        "xaxis": {
         "anchor": "y",
         "domain": [
          0,
          1
         ],
         "title": {
          "text": "Modelo"
         }
        },
        "yaxis": {
         "anchor": "x",
         "domain": [
          0,
          1
         ],
         "title": {
          "text": "Score"
         }
        }
       }
      }
     },
     "metadata": {},
     "output_type": "display_data"
    }
   ],
   "source": [
    "# Convertir la lista de métricas a DataFrame\n",
    "models_df = pd.DataFrame(model_metrics)\n",
    "\n",
    "print(\"\\nTabla Comparativa de Métricas Agregadas:\")\n",
    "print(models_df.to_string())\n",
    "\n",
    "# Visualización usando Plotly\n",
    "\n",
    "# Gráfico de Barras para Accuracy\n",
    "fig_acc = px.bar(models_df.sort_values('Accuracy', ascending=False),\n",
    "                 x='Model', y='Accuracy', color='Model',\n",
    "                 template='plotly_dark', title='Comparación de Accuracy por Modelo',\n",
    "                 text='Accuracy',\n",
    "                 labels={'Accuracy': 'Accuracy Score', 'Model': 'Modelo'})\n",
    "fig_acc.update_traces(texttemplate='%{text:.3f}', textposition='outside')\n",
    "fig_acc.update_layout(xaxis={'categoryorder':'total descending'})\n",
    "fig_acc.show()\n",
    "\n",
    "# Gráfico de Barras para F1-Score (Weighted)\n",
    "fig_f1 = px.bar(models_df.sort_values('F1-Score (w)', ascending=False),\n",
    "                x='Model', y='F1-Score (w)', color='Model',\n",
    "                template='plotly_dark', title='Comparación de F1-Score (Weighted) por Modelo',\n",
    "                text='F1-Score (w)',\n",
    "                labels={'F1-Score (w)': 'F1-Score (Weighted Avg)', 'Model': 'Modelo'})\n",
    "fig_f1.update_traces(texttemplate='%{text:.3f}', textposition='outside')\n",
    "fig_f1.update_layout(xaxis={'categoryorder':'total descending'})\n",
    "fig_f1.show()\n",
    "\n",
    "# Opcional: Visualizar Precision y Recall si es relevante\n",
    "fig_pr = px.bar(models_df, x='Model', y=['Precision (w)', 'Recall (w)'],\n",
    "             barmode='group', template='plotly_dark',\n",
    "             title='Comparación de Precision y Recall (Weighted) por Modelo',\n",
    "             labels={'value': 'Score', 'variable': 'Métrica', 'Model': 'Modelo'})\n",
    "fig_pr.show()"
   ]
  },
  {
   "cell_type": "code",
   "execution_count": 97,
   "id": "66112292",
   "metadata": {},
   "outputs": [
    {
     "name": "stdout",
     "output_type": "stream",
     "text": [
      "Optimization terminated successfully.\n",
      "         Current function value: 0.401153\n",
      "         Iterations 7\n",
      "                           Logit Regression Results                           \n",
      "==============================================================================\n",
      "Dep. Variable:                 target   No. Observations:                  920\n",
      "Model:                          Logit   Df Residuals:                      902\n",
      "Method:                           MLE   Df Model:                           17\n",
      "Date:                Wed, 29 Oct 2025   Pseudo R-squ.:                  0.4165\n",
      "Time:                        10:57:37   Log-Likelihood:                -369.06\n",
      "converged:                       True   LL-Null:                       -632.47\n",
      "Covariance Type:            nonrobust   LLR p-value:                4.214e-101\n",
      "==============================================================================\n",
      "                 coef    std err          z      P>|z|      [0.025      0.975]\n",
      "------------------------------------------------------------------------------\n",
      "const          0.3825      0.099      3.876      0.000       0.189       0.576\n",
      "x1             0.1813      0.108      1.680      0.093      -0.030       0.393\n",
      "x2             0.4861      0.101      4.819      0.000       0.288       0.684\n",
      "x3             0.0530      0.097      0.549      0.583      -0.136       0.242\n",
      "x4            -0.4547      0.103     -4.417      0.000      -0.656      -0.253\n",
      "x5             0.1777      0.096      1.844      0.065      -0.011       0.366\n",
      "x6            -0.3230      0.114     -2.843      0.004      -0.546      -0.100\n",
      "x7             0.4606      0.109      4.218      0.000       0.247       0.675\n",
      "x8             0.4888      0.116      4.218      0.000       0.262       0.716\n",
      "x9             0.1874      0.106      1.776      0.076      -0.019       0.394\n",
      "x10            0.3972      0.124      3.193      0.001       0.153       0.641\n",
      "x11           -0.8091      0.111     -7.305      0.000      -1.026      -0.592\n",
      "x12           -0.6056      0.094     -6.462      0.000      -0.789      -0.422\n",
      "x13           -0.2672      0.082     -3.242      0.001      -0.429      -0.106\n",
      "x14            0.0479      0.125      0.382      0.702      -0.198       0.294\n",
      "x15            0.1364      0.127      1.076      0.282      -0.112       0.385\n",
      "x16           -0.2682      0.195     -1.377      0.168      -0.650       0.114\n",
      "x17            0.0708      0.200      0.355      0.723      -0.321       0.462\n",
      "==============================================================================\n"
     ]
    }
   ],
   "source": [
    "# Añadir una constante (intercepto) a las variables predictoras\n",
    "X = sm.add_constant(X)\n",
    "\n",
    "# Dividir datos (opcional para statsmodels, pero bueno para consistencia)\n",
    "# Si lo haces, asegúrate de escalar DESPUÉS de dividir\n",
    "X_train, X_test, y_train, y_test = train_test_split(X, y, test_size=0.2, random_state=42, stratify=y) # Usar stratify\n",
    "\n",
    "# Escalar características (¡Importante ajustar solo en train!)\n",
    "# Nota: Statsmodels no requiere escalado, pero lo haremos por consistencia con sklearn\n",
    "numeric_cols = ['age', 'trestbps', 'chol', 'thalch', 'oldpeak', 'ca'] # Columnas a escalar (excluye dummies y constantes)\n",
    "scaler = StandardScaler()\n",
    "X_train_scaled = X_train.copy()\n",
    "X_test_scaled = X_test.copy()\n",
    "X_train_scaled[numeric_cols] = scaler.fit_transform(X_train[numeric_cols])\n",
    "X_test_scaled[numeric_cols] = scaler.transform(X_test[numeric_cols])\n",
    "\n",
    "\n",
    "# --- Ajustar Modelo Logístico con statsmodels ---\n",
    "# Usamos los datos completos para obtener el resumen estadístico general\n",
    "logit_model = sm.Logit(y, sm.add_constant(scaler.fit_transform(X.drop('const', axis=1)))) # Escalar X completo solo para el summary\n",
    "result = logit_model.fit()\n",
    "\n",
    "# --- Imprimir el Resumen Estadístico ---\n",
    "print(result.summary())\n",
    "\n"
   ]
  },
  {
   "cell_type": "code",
   "execution_count": 98,
   "id": "a845fe13",
   "metadata": {},
   "outputs": [
    {
     "name": "stdout",
     "output_type": "stream",
     "text": [
      "\n",
      "--- Matriz de Confusión ---\n",
      "[[64 18]\n",
      " [13 89]]\n"
     ]
    },
    {
     "data": {
      "image/png": "[encoded data removed]",
      "text/plain": [
       "<Figure size 600x400 with 2 Axes>"
      ]
     },
     "metadata": {},
     "output_type": "display_data"
    }
   ],
   "source": [
    "from sklearn.linear_model import LogisticRegression\n",
    "log_reg_sklearn = LogisticRegression(random_state=42, max_iter=1000)\n",
    "log_reg_sklearn.fit(X_train_scaled.drop('const', axis=1), y_train) # Excluir constante para sklearn\n",
    "y_pred_test = log_reg_sklearn.predict(X_test_scaled.drop('const', axis=1))\n",
    "y_pred_proba_test = log_reg_sklearn.predict_proba(X_test_scaled.drop('const', axis=1))[:, 1]\n",
    "\n",
    "# Usando las predicciones del modelo sklearn en el conjunto de prueba\n",
    "conf_matrix = confusion_matrix(y_test, y_pred_test)\n",
    "print(\"\\n--- Matriz de Confusión ---\")\n",
    "print(conf_matrix)\n",
    "\n",
    "# Para visualizarla mejor (opcional)\n",
    "plt.figure(figsize=(6, 4))\n",
    "sns.heatmap(conf_matrix, annot=True, fmt='d', cmap='Blues',\n",
    "            xticklabels=['Predicho No', 'Predicho Sí'],\n",
    "            yticklabels=['Real No', 'Real Sí'])\n",
    "plt.xlabel('Predicción')\n",
    "plt.ylabel('Valor Real')\n",
    "plt.title('Matriz de Confusión')\n",
    "plt.show()"
   ]
  },
  {
   "cell_type": "code",
   "execution_count": 100,
   "id": "f0f10c6c",
   "metadata": {},
   "outputs": [
    {
     "data": {
      "image/png": "[encoded data removed]",
      "text/plain": [
       "<Figure size 800x600 with 1 Axes>"
      ]
     },
     "metadata": {},
     "output_type": "display_data"
    }
   ],
   "source": [
    "X_test_scaled_df = pd.DataFrame(X_test_scaled, columns=X.columns)\n",
    "\n",
    "# --- Graficar Logística y Dispersión ---\n",
    "plt.figure(figsize=(8, 6))\n",
    "\n",
    "# Graficar puntos reales (con jitter para visualización)\n",
    "# Assign 'y_test' (the target variable 0 or 1) to the 'hue' parameter\n",
    "# Set legend=False as we likely don't need a separate legend for 0 and 1 here\n",
    "sns.stripplot(x=X_test_scaled_df['thalch'], y=y_test, hue=y_test, order=[0, 1], \n",
    "              jitter=0.1, alpha=0.5, palette='viridis', legend=False) # Assign y_test to hue and turn off legend\n",
    "\n",
    "# Graficar la curva logística estimada (aproximada con regplot)\n",
    "sns.regplot(x=X_test_scaled_df['thalch'], y=y_test, logistic=True, scatter=False, \n",
    "            color='red', line_kws={'linewidth': 2})\n",
    "\n",
    "plt.ylabel('Probabilidad de Enfermedad Cardíaca (1=Sí, 0=No)')\n",
    "plt.xlabel('Frecuencia Cardíaca Máx. Alcanzada (Estandarizada)')\n",
    "plt.title('Relación Logística entre Thalach y Enfermedad Cardíaca')\n",
    "plt.yticks([0, 1])\n",
    "plt.show()"
   ]
  }
 ],
 "metadata": {
  "kernelspec": {
   "display_name": "Python 3",
   "language": "python",
   "name": "python3"
  },
  "language_info": {
   "codemirror_mode": {
    "name": "ipython",
    "version": 3
   },
   "file_extension": ".py",
   "mimetype": "text/x-python",
   "name": "python",
   "nbconvert_exporter": "python",
   "pygments_lexer": "ipython3",
   "version": "3.11.9"
  }
 },
 "nbformat": 4,
 "nbformat_minor": 5
}
