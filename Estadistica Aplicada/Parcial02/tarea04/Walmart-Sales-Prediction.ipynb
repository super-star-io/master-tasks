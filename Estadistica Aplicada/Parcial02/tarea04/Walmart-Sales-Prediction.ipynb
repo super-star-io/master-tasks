{
 "cells": [
  {
   "cell_type": "markdown",
   "id": "69b00228",
   "metadata": {},
   "source": [
    "### Carga de librerias necesarias para el analisis multivariante"
   ]
  },
  {
   "cell_type": "code",
   "execution_count": 42,
   "id": "511fa34f",
   "metadata": {},
   "outputs": [],
   "source": [
    "\n",
    "#==============================================================================\n",
    "# EJEMPLO DEL MÉTODO DE REGRESIÓN LINEAL SIMPLE USANDO LAS LIBRERÍAS \n",
    "# SKLEARN Y STATSMODELS (EJEMPLO 1)\n",
    "#==============================================================================\n",
    "\n",
    "# Cargar librerías\n",
    "import pandas as pd\n",
    "import numpy as np\n",
    "import statsmodels.api as sm\n",
    "from statsmodels.stats.diagnostic import het_breuschpagan\n",
    "import itertools\n",
    "from sklearn.model_selection import train_test_split, GridSearchCV\n",
    "from sklearn.preprocessing import StandardScaler\n",
    "from sklearn.linear_model import Ridge\n",
    "from sklearn.ensemble import RandomForestRegressor\n",
    "from xgboost import XGBRegressor\n",
    "from sklearn.metrics import mean_squared_error, mean_absolute_error, r2_score\n",
    "import plotly.express as px"
   ]
  },
  {
   "cell_type": "markdown",
   "id": "f00e6cf7",
   "metadata": {},
   "source": [
    "### Se carga el dataset \n",
    "# Walmart Sales "
   ]
  },
  {
   "cell_type": "markdown",
   "id": "f7917f08",
   "metadata": {},
   "source": [
    "\n",
    "El conjunto de datos de ventas de Walmart contiene información histórica de 45 tiendas, incluyendo datos semanales de ventas y factores económicos y regionales que pueden influir en ellas. El objetivo es utilizar esta información para predecir las ventas semanales (Weekly_Sales) basándose en características como la temperatura, el precio del combustible, el índice de precios al consumidor (CPI) y la tasa de desempleo.\n",
    "\n",
    "A continuación, se presenta un script de Python que implementa y compara tres modelos de Machine Learning (Regresión Lineal con regularización Ridge, Random Forest y XGBoost) para predecir las ventas."
   ]
  },
  {
   "cell_type": "markdown",
   "id": "95622a1a",
   "metadata": {},
   "source": [
    "| Variable         | Tipo         | Descripción                                                                                   | Valores / Ejemplo                  |\n",
    "|------------------|--------------|----------------------------------------------------------------------------------------------|------------------------------------|\n",
    "| **Store**        | Numérica     | 🏬 Número único de identificación de cada tienda (del 1 al 45).                              | 1, 2, ..., 45                      |\n",
    "| **Weekly_Sales** | Numérica     | 💵 Total de ventas registradas en una tienda durante una semana específica.<br>🎯 *Variable objetivo a predecir.* | 1,643,690.90                       |\n",
    "| **Holiday_Flag** | Categórica Binaria | 🎉 Indica si la semana incluye un día festivo importante (Super Bowl, Labor Day, Thanksgiving, Christmas). | 1 = Semana de feriado<br>0 = No feriado |\n",
    "| **Temperature**  | Numérica     | 🌡️ Temperatura promedio en la región de la tienda durante la semana (°F).                    | 42.31                              |\n",
    "| **Fuel_Price**   | Numérica     | ⛽ Costo promedio del combustible en la región de la tienda.                                  | 2.572                              |\n",
    "| **CPI**          | Numérica     | 📈 Índice de Precios al Consumidor (inflación y poder adquisitivo en la región).              | 211.10                             |\n",
    "| **Unemployment** | Numérica     | 📉 Tasa de desempleo en la región de la tienda.                                               | 8.106                              |\n",
    "| **Year**         | Numérica     | 📅 Año en que se registraron las ventas (extraído de `Date`).                                | 2010, 2011, ...                    |\n",
    "| **Month**        | Numérica     | 🗓️ Mes en que se registraron las ventas (1 a 12, extraído de `Date`).                        | 2, 3, ...                          |\n",
    "| **Week**         | Numérica     | 📆 Número de la semana del año (1 a 52, extraído de `Date`).                                 | 5, 6, ...                          |\n",
    "| **Day**          | Numérica     | 📅 Día del mes en que finaliza la semana de ventas (extraído de `Date`).                     | 5, 12, ...                         |\n",
    "| **Season**       | Categórica   | 🍂 Estación del año correspondiente al mes de la venta.<br>*Captura patrones estacionales.*   | Invierno, Primavera, Verano, Otoño |\n",
    "| **Store_Tier**   | Categórica   | 🏆 Nivel asignado a cada tienda según su rendimiento de ventas promedio histórico.<br>*Agrupa tiendas con comportamiento similar.* | Alto: Tercio superior<br>Medio: Tercio medio<br>Bajo: Tercio inferior |\n"
   ]
  },
  {
   "cell_type": "markdown",
   "id": "54bd5fb0",
   "metadata": {},
   "source": [
    "### Carga el DataSet"
   ]
  },
  {
   "cell_type": "code",
   "execution_count": 30,
   "id": "fe428f05",
   "metadata": {},
   "outputs": [
    {
     "data": {
      "text/html": [
       "<div>\n",
       "<style scoped>\n",
       "    .dataframe tbody tr th:only-of-type {\n",
       "        vertical-align: middle;\n",
       "    }\n",
       "\n",
       "    .dataframe tbody tr th {\n",
       "        vertical-align: top;\n",
       "    }\n",
       "\n",
       "    .dataframe thead th {\n",
       "        text-align: right;\n",
       "    }\n",
       "</style>\n",
       "<table border=\"1\" class=\"dataframe\">\n",
       "  <thead>\n",
       "    <tr style=\"text-align: right;\">\n",
       "      <th></th>\n",
       "      <th>Store</th>\n",
       "      <th>Weekly_Sales</th>\n",
       "      <th>Holiday_Flag</th>\n",
       "      <th>Temperature</th>\n",
       "      <th>Fuel_Price</th>\n",
       "      <th>CPI</th>\n",
       "      <th>Unemployment</th>\n",
       "      <th>Year</th>\n",
       "      <th>Month</th>\n",
       "      <th>Week</th>\n",
       "      <th>Day</th>\n",
       "      <th>Season</th>\n",
       "      <th>Store_Tier</th>\n",
       "    </tr>\n",
       "  </thead>\n",
       "  <tbody>\n",
       "    <tr>\n",
       "      <th>0</th>\n",
       "      <td>1</td>\n",
       "      <td>1643690.90</td>\n",
       "      <td>0</td>\n",
       "      <td>42.31</td>\n",
       "      <td>2.572</td>\n",
       "      <td>211.096358</td>\n",
       "      <td>8.106</td>\n",
       "      <td>2010</td>\n",
       "      <td>2</td>\n",
       "      <td>5</td>\n",
       "      <td>5</td>\n",
       "      <td>Invierno</td>\n",
       "      <td>Alto</td>\n",
       "    </tr>\n",
       "    <tr>\n",
       "      <th>1</th>\n",
       "      <td>1</td>\n",
       "      <td>1641957.44</td>\n",
       "      <td>1</td>\n",
       "      <td>38.51</td>\n",
       "      <td>2.548</td>\n",
       "      <td>211.242170</td>\n",
       "      <td>8.106</td>\n",
       "      <td>2010</td>\n",
       "      <td>2</td>\n",
       "      <td>6</td>\n",
       "      <td>12</td>\n",
       "      <td>Invierno</td>\n",
       "      <td>Alto</td>\n",
       "    </tr>\n",
       "    <tr>\n",
       "      <th>2</th>\n",
       "      <td>1</td>\n",
       "      <td>1611968.17</td>\n",
       "      <td>0</td>\n",
       "      <td>39.93</td>\n",
       "      <td>2.514</td>\n",
       "      <td>211.289143</td>\n",
       "      <td>8.106</td>\n",
       "      <td>2010</td>\n",
       "      <td>2</td>\n",
       "      <td>7</td>\n",
       "      <td>19</td>\n",
       "      <td>Invierno</td>\n",
       "      <td>Alto</td>\n",
       "    </tr>\n",
       "    <tr>\n",
       "      <th>3</th>\n",
       "      <td>1</td>\n",
       "      <td>1409727.59</td>\n",
       "      <td>0</td>\n",
       "      <td>46.63</td>\n",
       "      <td>2.561</td>\n",
       "      <td>211.319643</td>\n",
       "      <td>8.106</td>\n",
       "      <td>2010</td>\n",
       "      <td>2</td>\n",
       "      <td>8</td>\n",
       "      <td>26</td>\n",
       "      <td>Invierno</td>\n",
       "      <td>Alto</td>\n",
       "    </tr>\n",
       "    <tr>\n",
       "      <th>4</th>\n",
       "      <td>1</td>\n",
       "      <td>1554806.68</td>\n",
       "      <td>0</td>\n",
       "      <td>46.50</td>\n",
       "      <td>2.625</td>\n",
       "      <td>211.350143</td>\n",
       "      <td>8.106</td>\n",
       "      <td>2010</td>\n",
       "      <td>3</td>\n",
       "      <td>9</td>\n",
       "      <td>5</td>\n",
       "      <td>Primavera</td>\n",
       "      <td>Alto</td>\n",
       "    </tr>\n",
       "  </tbody>\n",
       "</table>\n",
       "</div>"
      ],
      "text/plain": [
       "   Store  Weekly_Sales  Holiday_Flag  Temperature  Fuel_Price         CPI  \\\n",
       "0      1    1643690.90             0        42.31       2.572  211.096358   \n",
       "1      1    1641957.44             1        38.51       2.548  211.242170   \n",
       "2      1    1611968.17             0        39.93       2.514  211.289143   \n",
       "3      1    1409727.59             0        46.63       2.561  211.319643   \n",
       "4      1    1554806.68             0        46.50       2.625  211.350143   \n",
       "\n",
       "   Unemployment  Year  Month  Week  Day     Season Store_Tier  \n",
       "0         8.106  2010      2     5    5   Invierno       Alto  \n",
       "1         8.106  2010      2     6   12   Invierno       Alto  \n",
       "2         8.106  2010      2     7   19   Invierno       Alto  \n",
       "3         8.106  2010      2     8   26   Invierno       Alto  \n",
       "4         8.106  2010      3     9    5  Primavera       Alto  "
      ]
     },
     "execution_count": 30,
     "metadata": {},
     "output_type": "execute_result"
    }
   ],
   "source": [
    "df = pd.read_csv('./Walmart.csv') # Cargar dataset\n",
    "df.head()\n"
   ]
  },
  {
   "cell_type": "code",
   "execution_count": 31,
   "id": "ba0dbbf4",
   "metadata": {},
   "outputs": [
    {
     "name": "stdout",
     "output_type": "stream",
     "text": [
      "Visualización del DataFrame después de One-Hot Encoding:\n",
      "   Store  Weekly_Sales  Holiday_Flag  Temperature  Fuel_Price         CPI  \\\n",
      "0      1    1643690.90             0        42.31       2.572  211.096358   \n",
      "1      1    1641957.44             1        38.51       2.548  211.242170   \n",
      "2      1    1611968.17             0        39.93       2.514  211.289143   \n",
      "3      1    1409727.59             0        46.63       2.561  211.319643   \n",
      "4      1    1554806.68             0        46.50       2.625  211.350143   \n",
      "\n",
      "   Unemployment  Year  Month  Week  Day  Season_Otoño  Season_Primavera  \\\n",
      "0         8.106  2010      2     5    5         False             False   \n",
      "1         8.106  2010      2     6   12         False             False   \n",
      "2         8.106  2010      2     7   19         False             False   \n",
      "3         8.106  2010      2     8   26         False             False   \n",
      "4         8.106  2010      3     9    5         False              True   \n",
      "\n",
      "   Season_Verano  Store_Tier_Bajo  Store_Tier_Medio  \n",
      "0          False            False             False  \n",
      "1          False            False             False  \n",
      "2          False            False             False  \n",
      "3          False            False             False  \n",
      "4          False            False             False  \n",
      "Valores nulos en el dataset después de la limpieza:\n",
      "Store               0\n",
      "Weekly_Sales        0\n",
      "Holiday_Flag        0\n",
      "Temperature         0\n",
      "Fuel_Price          0\n",
      "CPI                 0\n",
      "Unemployment        0\n",
      "Year                0\n",
      "Month               0\n",
      "Week                0\n",
      "Day                 0\n",
      "Season_Otoño        0\n",
      "Season_Primavera    0\n",
      "Season_Verano       0\n",
      "Store_Tier_Bajo     0\n",
      "Store_Tier_Medio    0\n",
      "dtype: int64\n"
     ]
    }
   ],
   "source": [
    "df = pd.get_dummies(df, columns=['Season', 'Store_Tier'], drop_first=True)\n",
    "\n",
    "print(\"Visualización del DataFrame después de One-Hot Encoding:\")\n",
    "print(df.head())\n",
    "\n",
    "# Verificación de valores nulos (NaN)\n",
    "print(\"Valores nulos en el dataset después de la limpieza:\")\n",
    "print(df.isnull().sum())"
   ]
  },
  {
   "cell_type": "markdown",
   "id": "5011ac34",
   "metadata": {},
   "source": [
    "### Segmenta las variables independientes (X) y la variable dependiente (y)"
   ]
  },
  {
   "cell_type": "code",
   "execution_count": 32,
   "id": "aecdda0b",
   "metadata": {},
   "outputs": [],
   "source": [
    "# Segmenta las variables independientes (X) y la variable dependiente (y)\n",
    "X = df.drop('Weekly_Sales', axis=1)\n",
    "y = df['Weekly_Sales']"
   ]
  },
  {
   "cell_type": "markdown",
   "id": "5bbd3726",
   "metadata": {},
   "source": [
    " ### Regresión Lineal Múltiple (Mínimos Cuadrados Ordinarios - OLS) "
   ]
  },
  {
   "cell_type": "code",
   "execution_count": 34,
   "id": "293acc8a",
   "metadata": {},
   "outputs": [
    {
     "name": "stdout",
     "output_type": "stream",
     "text": [
      "                            OLS Regression Results                            \n",
      "==============================================================================\n",
      "Dep. Variable:           Weekly_Sales   R-squared:                       0.820\n",
      "Model:                            OLS   Adj. R-squared:                  0.820\n",
      "Method:                 Least Squares   F-statistic:                     1950.\n",
      "Date:                Tue, 14 Oct 2025   Prob (F-statistic):               0.00\n",
      "Time:                        21:28:41   Log-Likelihood:                -88834.\n",
      "No. Observations:                6435   AIC:                         1.777e+05\n",
      "Df Residuals:                    6419   BIC:                         1.778e+05\n",
      "Df Model:                          15                                         \n",
      "Covariance Type:            nonrobust                                         \n",
      "====================================================================================\n",
      "                       coef    std err          t      P>|t|      [0.025      0.975]\n",
      "------------------------------------------------------------------------------------\n",
      "const            -9.817e+06   3.18e+07     -0.309      0.758   -7.22e+07    5.25e+07\n",
      "Store            -3542.5286    254.126    -13.940      0.000   -4040.701   -3044.356\n",
      "Holiday_Flag      5.063e+04   1.25e+04      4.055      0.000    2.62e+04    7.51e+04\n",
      "Temperature      -2813.7532    275.033    -10.231      0.000   -3352.910   -2274.596\n",
      "Fuel_Price       -5.205e+04   1.37e+04     -3.807      0.000   -7.88e+04   -2.52e+04\n",
      "CPI               -653.9216     92.564     -7.064      0.000    -835.379    -472.464\n",
      "Unemployment      2.481e+04   1922.077     12.909      0.000     2.1e+04    2.86e+04\n",
      "Year              6275.1387   1.57e+04      0.399      0.690   -2.45e+04    3.71e+04\n",
      "Month            -9.203e+05   2.61e+05     -3.533      0.000   -1.43e+06    -4.1e+05\n",
      "Week              2.192e+05      6e+04      3.652      0.000    1.02e+05    3.37e+05\n",
      "Day              -3.246e+04   8583.434     -3.782      0.000   -4.93e+04   -1.56e+04\n",
      "Season_Otoño     -1.244e+05   1.26e+04     -9.893      0.000   -1.49e+05   -9.97e+04\n",
      "Season_Primavera  8.044e+04   1.51e+04      5.326      0.000    5.08e+04     1.1e+05\n",
      "Season_Verano     4.852e+04   1.55e+04      3.136      0.002    1.82e+04    7.88e+04\n",
      "Store_Tier_Bajo  -1.204e+06   7835.919   -153.593      0.000   -1.22e+06   -1.19e+06\n",
      "Store_Tier_Medio -7.159e+05   8144.664    -87.895      0.000   -7.32e+05      -7e+05\n",
      "==============================================================================\n",
      "Omnibus:                     1563.389   Durbin-Watson:                   0.608\n",
      "Prob(Omnibus):                  0.000   Jarque-Bera (JB):             7524.150\n",
      "Skew:                           1.093   Prob(JB):                         0.00\n",
      "Kurtosis:                       7.825   Cond. No.                     2.15e+07\n",
      "==============================================================================\n",
      "\n",
      "Notes:\n",
      "[1] Standard Errors assume that the covariance matrix of the errors is correctly specified.\n",
      "[2] The condition number is large, 2.15e+07. This might indicate that there are\n",
      "strong multicollinearity or other numerical problems.\n"
     ]
    }
   ],
   "source": [
    "# Convertir columnas booleanas a int para evitar errores con statsmodels\n",
    "X_OLS = sm.add_constant(X)\n",
    "X_OLS = X_OLS.astype({col: int for col in X_OLS.select_dtypes('bool').columns})\n",
    "\n",
    "# Ajustar el modelo OLS\n",
    "model_ols = sm.OLS(y, X_OLS).fit()\n",
    "\n",
    "# Imprimir el resumen estadístico completo\n",
    "print(model_ols.summary())"
   ]
  },
  {
   "cell_type": "markdown",
   "id": "5debb2b3",
   "metadata": {},
   "source": [
    "# Dividir el dataset en entrenamiento y prueba"
   ]
  },
  {
   "cell_type": "code",
   "execution_count": 36,
   "id": "cf080ac1",
   "metadata": {},
   "outputs": [],
   "source": [
    "# Dividir el dataset en entrenamiento y prueba de forma estratificada\n",
    "X_train, X_test, y_train, y_test = train_test_split(X, y, test_size=0.2, random_state=42)\n",
    "\n"
   ]
  },
  {
   "cell_type": "markdown",
   "id": "cf2e5d36",
   "metadata": {},
   "source": [
    "### Escalar variables"
   ]
  },
  {
   "cell_type": "code",
   "execution_count": 37,
   "id": "1919223c",
   "metadata": {},
   "outputs": [],
   "source": [
    "# Escalar variables\n",
    "scaler = StandardScaler()\n",
    "X_train = scaler.fit_transform(X_train)\n",
    "X_test = scaler.transform(X_test)"
   ]
  },
  {
   "cell_type": "markdown",
   "id": "3a084fd8",
   "metadata": {},
   "source": [
    "### Crear Modelos de clasificacion para comparacion de rendimiento\n"
   ]
  },
  {
   "cell_type": "code",
   "execution_count": 38,
   "id": "a9aa733e",
   "metadata": {},
   "outputs": [
    {
     "name": "stdout",
     "output_type": "stream",
     "text": [
      "------------------------------\n",
      "Optimizando y Entrenando Regresión Ridge...\n",
      "\n",
      "Regresión Lineal (Ridge) optimizada:\n",
      "  Mejor alpha: 0.1\n",
      "  RMSE: $240,606.85\n",
      "  MAE: $182,570.64\n",
      "  R²: 0.820\n"
     ]
    }
   ],
   "source": [
    "# --- Regresión Lineal (Ridge) ---\n",
    "print(\"-\" * 30)\n",
    "print(\"Optimizando y Entrenando Regresión Ridge...\")\n",
    "ridge_params = {'alpha': [0.1, 1.0, 10.0, 50.0, 100.0]}\n",
    "ridge_grid = GridSearchCV(Ridge(), ridge_params, cv=5, scoring='r2', n_jobs=-1)\n",
    "ridge_grid.fit(X_train, y_train)\n",
    "model_lr = ridge_grid.best_estimator_\n",
    "\n",
    "y_pred_lr = model_lr.predict(X_test)\n",
    "rmse_lr = np.sqrt(mean_squared_error(y_test, y_pred_lr))\n",
    "mae_lr = mean_absolute_error(y_test, y_pred_lr)\n",
    "r2_lr = r2_score(y_test, y_pred_lr)\n",
    "\n",
    "print(\"\\nRegresión Lineal (Ridge) optimizada:\")\n",
    "print(f\"  Mejor alpha: {ridge_grid.best_params_['alpha']}\")\n",
    "print(f\"  RMSE: ${rmse_lr:,.2f}\")\n",
    "print(f\"  MAE: ${mae_lr:,.2f}\")\n",
    "print(f\"  R²: {r2_lr:.3f}\")"
   ]
  },
  {
   "cell_type": "code",
   "execution_count": 39,
   "id": "83f47c96",
   "metadata": {},
   "outputs": [
    {
     "name": "stdout",
     "output_type": "stream",
     "text": [
      "------------------------------\n",
      "Optimizando y Entrenando Random Forest...\n",
      "Fitting 3 folds for each of 8 candidates, totalling 24 fits\n",
      "\n",
      "Random Forest optimizado:\n",
      "  Mejores Parámetros: {'max_depth': 20, 'min_samples_leaf': 2, 'n_estimators': 200}\n",
      "  RMSE: $87,775.13\n",
      "  MAE: $50,157.80\n",
      "  R²: 0.976\n"
     ]
    }
   ],
   "source": [
    "# --- Random Forest ---\n",
    "print(\"-\" * 30)\n",
    "print(\"Optimizando y Entrenando Random Forest...\")\n",
    "rf_params = {\n",
    "    'n_estimators': [100, 200],\n",
    "    'max_depth': [10, 20],\n",
    "    'min_samples_leaf': [2, 4]\n",
    "}\n",
    "rf_grid = GridSearchCV(RandomForestRegressor(random_state=42, n_jobs=-1), rf_params, cv=3, scoring='r2', verbose=1)\n",
    "rf_grid.fit(X_train, y_train)\n",
    "model_rf = rf_grid.best_estimator_\n",
    "\n",
    "y_pred_rf = model_rf.predict(X_test)\n",
    "rmse_rf = np.sqrt(mean_squared_error(y_test, y_pred_rf))\n",
    "mae_rf = mean_absolute_error(y_test, y_pred_rf)\n",
    "r2_rf = r2_score(y_test, y_pred_rf)\n",
    "\n",
    "print(\"\\nRandom Forest optimizado:\")\n",
    "print(f\"  Mejores Parámetros: {rf_grid.best_params_}\")\n",
    "print(f\"  RMSE: ${rmse_rf:,.2f}\")\n",
    "print(f\"  MAE: ${mae_rf:,.2f}\")\n",
    "print(f\"  R²: {r2_rf:.3f}\")\n"
   ]
  },
  {
   "cell_type": "code",
   "execution_count": 40,
   "id": "f93e1459",
   "metadata": {},
   "outputs": [
    {
     "name": "stdout",
     "output_type": "stream",
     "text": [
      "------------------------------\n",
      "Optimizando y Entrenando XGBoost...\n",
      "Fitting 3 folds for each of 8 candidates, totalling 24 fits\n",
      "\n",
      "XGBoost optimizado:\n",
      "  Mejores Parámetros: {'learning_rate': 0.1, 'max_depth': 5, 'n_estimators': 200}\n",
      "  RMSE: $69,571.45\n",
      "  MAE: $43,098.28\n",
      "  R²: 0.985\n",
      "------------------------------\n"
     ]
    }
   ],
   "source": [
    "# --- XGBoost ---\n",
    "print(\"-\" * 30)\n",
    "print(\"Optimizando y Entrenando XGBoost...\")\n",
    "xgb_params = {\n",
    "    'n_estimators': [100, 200],\n",
    "    'max_depth': [3, 5],\n",
    "    'learning_rate': [0.05, 0.1]\n",
    "}\n",
    "xgb_grid = GridSearchCV(XGBRegressor(objective='reg:squarederror', random_state=42, n_jobs=-1), xgb_params, cv=3, scoring='r2', verbose=1)\n",
    "xgb_grid.fit(X_train, y_train)\n",
    "model_xgb = xgb_grid.best_estimator_\n",
    "\n",
    "y_pred_xgb = model_xgb.predict(X_test)\n",
    "rmse_xgb = np.sqrt(mean_squared_error(y_test, y_pred_xgb))\n",
    "mae_xgb = mean_absolute_error(y_test, y_pred_xgb)\n",
    "r2_xgb = r2_score(y_test, y_pred_xgb)\n",
    "\n",
    "print(\"\\nXGBoost optimizado:\")\n",
    "print(f\"  Mejores Parámetros: {xgb_grid.best_params_}\")\n",
    "print(f\"  RMSE: ${rmse_xgb:,.2f}\")\n",
    "print(f\"  MAE: ${mae_xgb:,.2f}\")\n",
    "print(f\"  R²: {r2_xgb:.3f}\")\n",
    "print(\"-\" * 30)\n"
   ]
  },
  {
   "cell_type": "markdown",
   "id": "90f19715",
   "metadata": {},
   "source": [
    "#  --- Comparación de Modelos ---\n"
   ]
  },
  {
   "cell_type": "code",
   "execution_count": 41,
   "id": "2691a07e",
   "metadata": {},
   "outputs": [
    {
     "name": "stdout",
     "output_type": "stream",
     "text": [
      "\n",
      "Tabla Comparativa de Métricas:\n",
      "              Model           RMSE            MAE        R²\n",
      "0  Ridge Regression  240606.845801  182570.644322  0.820299\n",
      "1     Random Forest   87775.131651   50157.803060  0.976085\n",
      "2           XGBoost   69571.446989   43098.279406  0.984976\n"
     ]
    },
    {
     "data": {
      "application/vnd.plotly.v1+json": {
       "config": {
        "plotlyServerURL": "https://plot.ly"
       },
       "data": [
        {
         "hovertemplate": "Modelo=%{y}<br>R² Score=%{text}<extra></extra>",
         "legendgroup": "Ridge Regression",
         "marker": {
          "color": "#636efa",
          "pattern": {
           "shape": ""
          }
         },
         "name": "Ridge Regression",
         "orientation": "h",
         "showlegend": true,
         "text": {
          "bdata": "EN3jquI/6j8=",
          "dtype": "f8"
         },
         "textposition": "outside",
         "texttemplate": "%{text:.3f}",
         "type": "bar",
         "x": {
          "bdata": "EN3jquI/6j8=",
          "dtype": "f8"
         },
         "xaxis": "x",
         "y": [
          "Ridge Regression"
         ],
         "yaxis": "y"
        },
        {
         "hovertemplate": "Modelo=%{y}<br>R² Score=%{text}<extra></extra>",
         "legendgroup": "Random Forest",
         "marker": {
          "color": "#EF553B",
          "pattern": {
           "shape": ""
          }
         },
         "name": "Random Forest",
         "orientation": "h",
         "showlegend": true,
         "text": {
          "bdata": "rxugphU87z8=",
          "dtype": "f8"
         },
         "textposition": "outside",
         "texttemplate": "%{text:.3f}",
         "type": "bar",
         "x": {
          "bdata": "rxugphU87z8=",
          "dtype": "f8"
         },
         "xaxis": "x",
         "y": [
          "Random Forest"
         ],
         "yaxis": "y"
        },
        {
         "hovertemplate": "Modelo=%{y}<br>R² Score=%{text}<extra></extra>",
         "legendgroup": "XGBoost",
         "marker": {
          "color": "#00cc96",
          "pattern": {
           "shape": ""
          }
         },
         "name": "XGBoost",
         "orientation": "h",
         "showlegend": true,
         "text": {
          "bdata": "u8itgOuE7z8=",
          "dtype": "f8"
         },
         "textposition": "outside",
         "texttemplate": "%{text:.3f}",
         "type": "bar",
         "x": {
          "bdata": "u8itgOuE7z8=",
          "dtype": "f8"
         },
         "xaxis": "x",
         "y": [
          "XGBoost"
         ],
         "yaxis": "y"
        }
       ],
       "layout": {
        "barmode": "relative",
        "legend": {
         "title": {
          "text": "Modelo"
         },
         "tracegroupgap": 0
        },
        "template": {
         "data": {
          "bar": [
           {
            "error_x": {
             "color": "#f2f5fa"
            },
            "error_y": {
             "color": "#f2f5fa"
            },
            "marker": {
             "line": {
              "color": "rgb(17,17,17)",
              "width": 0.5
             },
             "pattern": {
              "fillmode": "overlay",
              "size": 10,
              "solidity": 0.2
             }
            },
            "type": "bar"
           }
          ],
          "barpolar": [
           {
            "marker": {
             "line": {
              "color": "rgb(17,17,17)",
              "width": 0.5
             },
             "pattern": {
              "fillmode": "overlay",
              "size": 10,
              "solidity": 0.2
             }
            },
            "type": "barpolar"
           }
          ],
          "carpet": [
           {
            "aaxis": {
             "endlinecolor": "#A2B1C6",
             "gridcolor": "#506784",
             "linecolor": "#506784",
             "minorgridcolor": "#506784",
             "startlinecolor": "#A2B1C6"
            },
            "baxis": {
             "endlinecolor": "#A2B1C6",
             "gridcolor": "#506784",
             "linecolor": "#506784",
             "minorgridcolor": "#506784",
             "startlinecolor": "#A2B1C6"
            },
            "type": "carpet"
           }
          ],
          "choropleth": [
           {
            "colorbar": {
             "outlinewidth": 0,
             "ticks": ""
            },
            "type": "choropleth"
           }
          ],
          "contour": [
           {
            "colorbar": {
             "outlinewidth": 0,
             "ticks": ""
            },
            "colorscale": [
             [
              0,
              "#0d0887"
             ],
             [
              0.1111111111111111,
              "#46039f"
             ],
             [
              0.2222222222222222,
              "#7201a8"
             ],
             [
              0.3333333333333333,
              "#9c179e"
             ],
             [
              0.4444444444444444,
              "#bd3786"
             ],
             [
              0.5555555555555556,
              "#d8576b"
             ],
             [
              0.6666666666666666,
              "#ed7953"
             ],
             [
              0.7777777777777778,
              "#fb9f3a"
             ],
             [
              0.8888888888888888,
              "#fdca26"
             ],
             [
              1,
              "#f0f921"
             ]
            ],
            "type": "contour"
           }
          ],
          "contourcarpet": [
           {
            "colorbar": {
             "outlinewidth": 0,
             "ticks": ""
            },
            "type": "contourcarpet"
           }
          ],
          "heatmap": [
           {
            "colorbar": {
             "outlinewidth": 0,
             "ticks": ""
            },
            "colorscale": [
             [
              0,
              "#0d0887"
             ],
             [
              0.1111111111111111,
              "#46039f"
             ],
             [
              0.2222222222222222,
              "#7201a8"
             ],
             [
              0.3333333333333333,
              "#9c179e"
             ],
             [
              0.4444444444444444,
              "#bd3786"
             ],
             [
              0.5555555555555556,
              "#d8576b"
             ],
             [
              0.6666666666666666,
              "#ed7953"
             ],
             [
              0.7777777777777778,
              "#fb9f3a"
             ],
             [
              0.8888888888888888,
              "#fdca26"
             ],
             [
              1,
              "#f0f921"
             ]
            ],
            "type": "heatmap"
           }
          ],
          "histogram": [
           {
            "marker": {
             "pattern": {
              "fillmode": "overlay",
              "size": 10,
              "solidity": 0.2
             }
            },
            "type": "histogram"
           }
          ],
          "histogram2d": [
           {
            "colorbar": {
             "outlinewidth": 0,
             "ticks": ""
            },
            "colorscale": [
             [
              0,
              "#0d0887"
             ],
             [
              0.1111111111111111,
              "#46039f"
             ],
             [
              0.2222222222222222,
              "#7201a8"
             ],
             [
              0.3333333333333333,
              "#9c179e"
             ],
             [
              0.4444444444444444,
              "#bd3786"
             ],
             [
              0.5555555555555556,
              "#d8576b"
             ],
             [
              0.6666666666666666,
              "#ed7953"
             ],
             [
              0.7777777777777778,
              "#fb9f3a"
             ],
             [
              0.8888888888888888,
              "#fdca26"
             ],
             [
              1,
              "#f0f921"
             ]
            ],
            "type": "histogram2d"
           }
          ],
          "histogram2dcontour": [
           {
            "colorbar": {
             "outlinewidth": 0,
             "ticks": ""
            },
            "colorscale": [
             [
              0,
              "#0d0887"
             ],
             [
              0.1111111111111111,
              "#46039f"
             ],
             [
              0.2222222222222222,
              "#7201a8"
             ],
             [
              0.3333333333333333,
              "#9c179e"
             ],
             [
              0.4444444444444444,
              "#bd3786"
             ],
             [
              0.5555555555555556,
              "#d8576b"
             ],
             [
              0.6666666666666666,
              "#ed7953"
             ],
             [
              0.7777777777777778,
              "#fb9f3a"
             ],
             [
              0.8888888888888888,
              "#fdca26"
             ],
             [
              1,
              "#f0f921"
             ]
            ],
            "type": "histogram2dcontour"
           }
          ],
          "mesh3d": [
           {
            "colorbar": {
             "outlinewidth": 0,
             "ticks": ""
            },
            "type": "mesh3d"
           }
          ],
          "parcoords": [
           {
            "line": {
             "colorbar": {
              "outlinewidth": 0,
              "ticks": ""
             }
            },
            "type": "parcoords"
           }
          ],
          "pie": [
           {
            "automargin": true,
            "type": "pie"
           }
          ],
          "scatter": [
           {
            "marker": {
             "line": {
              "color": "#283442"
             }
            },
            "type": "scatter"
           }
          ],
          "scatter3d": [
           {
            "line": {
             "colorbar": {
              "outlinewidth": 0,
              "ticks": ""
             }
            },
            "marker": {
             "colorbar": {
              "outlinewidth": 0,
              "ticks": ""
             }
            },
            "type": "scatter3d"
           }
          ],
          "scattercarpet": [
           {
            "marker": {
             "colorbar": {
              "outlinewidth": 0,
              "ticks": ""
             }
            },
            "type": "scattercarpet"
           }
          ],
          "scattergeo": [
           {
            "marker": {
             "colorbar": {
              "outlinewidth": 0,
              "ticks": ""
             }
            },
            "type": "scattergeo"
           }
          ],
          "scattergl": [
           {
            "marker": {
             "line": {
              "color": "#283442"
             }
            },
            "type": "scattergl"
           }
          ],
          "scattermap": [
           {
            "marker": {
             "colorbar": {
              "outlinewidth": 0,
              "ticks": ""
             }
            },
            "type": "scattermap"
           }
          ],
          "scattermapbox": [
           {
            "marker": {
             "colorbar": {
              "outlinewidth": 0,
              "ticks": ""
             }
            },
            "type": "scattermapbox"
           }
          ],
          "scatterpolar": [
           {
            "marker": {
             "colorbar": {
              "outlinewidth": 0,
              "ticks": ""
             }
            },
            "type": "scatterpolar"
           }
          ],
          "scatterpolargl": [
           {
            "marker": {
             "colorbar": {
              "outlinewidth": 0,
              "ticks": ""
             }
            },
            "type": "scatterpolargl"
           }
          ],
          "scatterternary": [
           {
            "marker": {
             "colorbar": {
              "outlinewidth": 0,
              "ticks": ""
             }
            },
            "type": "scatterternary"
           }
          ],
          "surface": [
           {
            "colorbar": {
             "outlinewidth": 0,
             "ticks": ""
            },
            "colorscale": [
             [
              0,
              "#0d0887"
             ],
             [
              0.1111111111111111,
              "#46039f"
             ],
             [
              0.2222222222222222,
              "#7201a8"
             ],
             [
              0.3333333333333333,
              "#9c179e"
             ],
             [
              0.4444444444444444,
              "#bd3786"
             ],
             [
              0.5555555555555556,
              "#d8576b"
             ],
             [
              0.6666666666666666,
              "#ed7953"
             ],
             [
              0.7777777777777778,
              "#fb9f3a"
             ],
             [
              0.8888888888888888,
              "#fdca26"
             ],
             [
              1,
              "#f0f921"
             ]
            ],
            "type": "surface"
           }
          ],
          "table": [
           {
            "cells": {
             "fill": {
              "color": "#506784"
             },
             "line": {
              "color": "rgb(17,17,17)"
             }
            },
            "header": {
             "fill": {
              "color": "#2a3f5f"
             },
             "line": {
              "color": "rgb(17,17,17)"
             }
            },
            "type": "table"
           }
          ]
         },
         "layout": {
          "annotationdefaults": {
           "arrowcolor": "#f2f5fa",
           "arrowhead": 0,
           "arrowwidth": 1
          },
          "autotypenumbers": "strict",
          "coloraxis": {
           "colorbar": {
            "outlinewidth": 0,
            "ticks": ""
           }
          },
          "colorscale": {
           "diverging": [
            [
             0,
             "#8e0152"
            ],
            [
             0.1,
             "#c51b7d"
            ],
            [
             0.2,
             "#de77ae"
            ],
            [
             0.3,
             "#f1b6da"
            ],
            [
             0.4,
             "#fde0ef"
            ],
            [
             0.5,
             "#f7f7f7"
            ],
            [
             0.6,
             "#e6f5d0"
            ],
            [
             0.7,
             "#b8e186"
            ],
            [
             0.8,
             "#7fbc41"
            ],
            [
             0.9,
             "#4d9221"
            ],
            [
             1,
             "#276419"
            ]
           ],
           "sequential": [
            [
             0,
             "#0d0887"
            ],
            [
             0.1111111111111111,
             "#46039f"
            ],
            [
             0.2222222222222222,
             "#7201a8"
            ],
            [
             0.3333333333333333,
             "#9c179e"
            ],
            [
             0.4444444444444444,
             "#bd3786"
            ],
            [
             0.5555555555555556,
             "#d8576b"
            ],
            [
             0.6666666666666666,
             "#ed7953"
            ],
            [
             0.7777777777777778,
             "#fb9f3a"
            ],
            [
             0.8888888888888888,
             "#fdca26"
            ],
            [
             1,
             "#f0f921"
            ]
           ],
           "sequentialminus": [
            [
             0,
             "#0d0887"
            ],
            [
             0.1111111111111111,
             "#46039f"
            ],
            [
             0.2222222222222222,
             "#7201a8"
            ],
            [
             0.3333333333333333,
             "#9c179e"
            ],
            [
             0.4444444444444444,
             "#bd3786"
            ],
            [
             0.5555555555555556,
             "#d8576b"
            ],
            [
             0.6666666666666666,
             "#ed7953"
            ],
            [
             0.7777777777777778,
             "#fb9f3a"
            ],
            [
             0.8888888888888888,
             "#fdca26"
            ],
            [
             1,
             "#f0f921"
            ]
           ]
          },
          "colorway": [
           "#636efa",
           "#EF553B",
           "#00cc96",
           "#ab63fa",
           "#FFA15A",
           "#19d3f3",
           "#FF6692",
           "#B6E880",
           "#FF97FF",
           "#FECB52"
          ],
          "font": {
           "color": "#f2f5fa"
          },
          "geo": {
           "bgcolor": "rgb(17,17,17)",
           "lakecolor": "rgb(17,17,17)",
           "landcolor": "rgb(17,17,17)",
           "showlakes": true,
           "showland": true,
           "subunitcolor": "#506784"
          },
          "hoverlabel": {
           "align": "left"
          },
          "hovermode": "closest",
          "mapbox": {
           "style": "dark"
          },
          "paper_bgcolor": "rgb(17,17,17)",
          "plot_bgcolor": "rgb(17,17,17)",
          "polar": {
           "angularaxis": {
            "gridcolor": "#506784",
            "linecolor": "#506784",
            "ticks": ""
           },
           "bgcolor": "rgb(17,17,17)",
           "radialaxis": {
            "gridcolor": "#506784",
            "linecolor": "#506784",
            "ticks": ""
           }
          },
          "scene": {
           "xaxis": {
            "backgroundcolor": "rgb(17,17,17)",
            "gridcolor": "#506784",
            "gridwidth": 2,
            "linecolor": "#506784",
            "showbackground": true,
            "ticks": "",
            "zerolinecolor": "#C8D4E3"
           },
           "yaxis": {
            "backgroundcolor": "rgb(17,17,17)",
            "gridcolor": "#506784",
            "gridwidth": 2,
            "linecolor": "#506784",
            "showbackground": true,
            "ticks": "",
            "zerolinecolor": "#C8D4E3"
           },
           "zaxis": {
            "backgroundcolor": "rgb(17,17,17)",
            "gridcolor": "#506784",
            "gridwidth": 2,
            "linecolor": "#506784",
            "showbackground": true,
            "ticks": "",
            "zerolinecolor": "#C8D4E3"
           }
          },
          "shapedefaults": {
           "line": {
            "color": "#f2f5fa"
           }
          },
          "sliderdefaults": {
           "bgcolor": "#C8D4E3",
           "bordercolor": "rgb(17,17,17)",
           "borderwidth": 1,
           "tickwidth": 0
          },
          "ternary": {
           "aaxis": {
            "gridcolor": "#506784",
            "linecolor": "#506784",
            "ticks": ""
           },
           "baxis": {
            "gridcolor": "#506784",
            "linecolor": "#506784",
            "ticks": ""
           },
           "bgcolor": "rgb(17,17,17)",
           "caxis": {
            "gridcolor": "#506784",
            "linecolor": "#506784",
            "ticks": ""
           }
          },
          "title": {
           "x": 0.05
          },
          "updatemenudefaults": {
           "bgcolor": "#506784",
           "borderwidth": 0
          },
          "xaxis": {
           "automargin": true,
           "gridcolor": "#283442",
           "linecolor": "#506784",
           "ticks": "",
           "title": {
            "standoff": 15
           },
           "zerolinecolor": "#283442",
           "zerolinewidth": 2
          },
          "yaxis": {
           "automargin": true,
           "gridcolor": "#283442",
           "linecolor": "#506784",
           "ticks": "",
           "title": {
            "standoff": 15
           },
           "zerolinecolor": "#283442",
           "zerolinewidth": 2
          }
         }
        },
        "title": {
         "text": "Comparación de R² por Modelo"
        },
        "xaxis": {
         "anchor": "y",
         "domain": [
          0,
          1
         ],
         "range": [
          0,
          1
         ],
         "title": {
          "text": "R² Score"
         }
        },
        "yaxis": {
         "anchor": "x",
         "categoryarray": [
          "XGBoost",
          "Random Forest",
          "Ridge Regression"
         ],
         "categoryorder": "array",
         "domain": [
          0,
          1
         ],
         "title": {
          "text": "Modelo"
         }
        }
       }
      }
     },
     "metadata": {},
     "output_type": "display_data"
    },
    {
     "data": {
      "application/vnd.plotly.v1+json": {
       "config": {
        "plotlyServerURL": "https://plot.ly"
       },
       "data": [
        {
         "hovertemplate": "Modelo=%{y}<br>RMSE ($)=%{text}<extra></extra>",
         "legendgroup": "Ridge Regression",
         "marker": {
          "color": "#636efa",
          "pattern": {
           "shape": ""
          }
         },
         "name": "Ridge Regression",
         "orientation": "h",
         "showlegend": true,
         "text": {
          "bdata": "EGgzxPZeDUE=",
          "dtype": "f8"
         },
         "textposition": "outside",
         "texttemplate": "$%{text:,.0f}",
         "type": "bar",
         "x": {
          "bdata": "EGgzxPZeDUE=",
          "dtype": "f8"
         },
         "xaxis": "x",
         "y": [
          "Ridge Regression"
         ],
         "yaxis": "y"
        },
        {
         "hovertemplate": "Modelo=%{y}<br>RMSE ($)=%{text}<extra></extra>",
         "legendgroup": "Random Forest",
         "marker": {
          "color": "#EF553B",
          "pattern": {
           "shape": ""
          }
         },
         "name": "Random Forest",
         "orientation": "h",
         "showlegend": true,
         "text": {
          "bdata": "sd89G/Jt9UA=",
          "dtype": "f8"
         },
         "textposition": "outside",
         "texttemplate": "$%{text:,.0f}",
         "type": "bar",
         "x": {
          "bdata": "sd89G/Jt9UA=",
          "dtype": "f8"
         },
         "xaxis": "x",
         "y": [
          "Random Forest"
         ],
         "yaxis": "y"
        },
        {
         "hovertemplate": "Modelo=%{y}<br>RMSE ($)=%{text}<extra></extra>",
         "legendgroup": "XGBoost",
         "marker": {
          "color": "#00cc96",
          "pattern": {
           "shape": ""
          }
         },
         "name": "XGBoost",
         "orientation": "h",
         "showlegend": true,
         "text": {
          "bdata": "w+ndJjf88EA=",
          "dtype": "f8"
         },
         "textposition": "outside",
         "texttemplate": "$%{text:,.0f}",
         "type": "bar",
         "x": {
          "bdata": "w+ndJjf88EA=",
          "dtype": "f8"
         },
         "xaxis": "x",
         "y": [
          "XGBoost"
         ],
         "yaxis": "y"
        }
       ],
       "layout": {
        "barmode": "relative",
        "legend": {
         "title": {
          "text": "Modelo"
         },
         "tracegroupgap": 0
        },
        "template": {
         "data": {
          "bar": [
           {
            "error_x": {
             "color": "#f2f5fa"
            },
            "error_y": {
             "color": "#f2f5fa"
            },
            "marker": {
             "line": {
              "color": "rgb(17,17,17)",
              "width": 0.5
             },
             "pattern": {
              "fillmode": "overlay",
              "size": 10,
              "solidity": 0.2
             }
            },
            "type": "bar"
           }
          ],
          "barpolar": [
           {
            "marker": {
             "line": {
              "color": "rgb(17,17,17)",
              "width": 0.5
             },
             "pattern": {
              "fillmode": "overlay",
              "size": 10,
              "solidity": 0.2
             }
            },
            "type": "barpolar"
           }
          ],
          "carpet": [
           {
            "aaxis": {
             "endlinecolor": "#A2B1C6",
             "gridcolor": "#506784",
             "linecolor": "#506784",
             "minorgridcolor": "#506784",
             "startlinecolor": "#A2B1C6"
            },
            "baxis": {
             "endlinecolor": "#A2B1C6",
             "gridcolor": "#506784",
             "linecolor": "#506784",
             "minorgridcolor": "#506784",
             "startlinecolor": "#A2B1C6"
            },
            "type": "carpet"
           }
          ],
          "choropleth": [
           {
            "colorbar": {
             "outlinewidth": 0,
             "ticks": ""
            },
            "type": "choropleth"
           }
          ],
          "contour": [
           {
            "colorbar": {
             "outlinewidth": 0,
             "ticks": ""
            },
            "colorscale": [
             [
              0,
              "#0d0887"
             ],
             [
              0.1111111111111111,
              "#46039f"
             ],
             [
              0.2222222222222222,
              "#7201a8"
             ],
             [
              0.3333333333333333,
              "#9c179e"
             ],
             [
              0.4444444444444444,
              "#bd3786"
             ],
             [
              0.5555555555555556,
              "#d8576b"
             ],
             [
              0.6666666666666666,
              "#ed7953"
             ],
             [
              0.7777777777777778,
              "#fb9f3a"
             ],
             [
              0.8888888888888888,
              "#fdca26"
             ],
             [
              1,
              "#f0f921"
             ]
            ],
            "type": "contour"
           }
          ],
          "contourcarpet": [
           {
            "colorbar": {
             "outlinewidth": 0,
             "ticks": ""
            },
            "type": "contourcarpet"
           }
          ],
          "heatmap": [
           {
            "colorbar": {
             "outlinewidth": 0,
             "ticks": ""
            },
            "colorscale": [
             [
              0,
              "#0d0887"
             ],
             [
              0.1111111111111111,
              "#46039f"
             ],
             [
              0.2222222222222222,
              "#7201a8"
             ],
             [
              0.3333333333333333,
              "#9c179e"
             ],
             [
              0.4444444444444444,
              "#bd3786"
             ],
             [
              0.5555555555555556,
              "#d8576b"
             ],
             [
              0.6666666666666666,
              "#ed7953"
             ],
             [
              0.7777777777777778,
              "#fb9f3a"
             ],
             [
              0.8888888888888888,
              "#fdca26"
             ],
             [
              1,
              "#f0f921"
             ]
            ],
            "type": "heatmap"
           }
          ],
          "histogram": [
           {
            "marker": {
             "pattern": {
              "fillmode": "overlay",
              "size": 10,
              "solidity": 0.2
             }
            },
            "type": "histogram"
           }
          ],
          "histogram2d": [
           {
            "colorbar": {
             "outlinewidth": 0,
             "ticks": ""
            },
            "colorscale": [
             [
              0,
              "#0d0887"
             ],
             [
              0.1111111111111111,
              "#46039f"
             ],
             [
              0.2222222222222222,
              "#7201a8"
             ],
             [
              0.3333333333333333,
              "#9c179e"
             ],
             [
              0.4444444444444444,
              "#bd3786"
             ],
             [
              0.5555555555555556,
              "#d8576b"
             ],
             [
              0.6666666666666666,
              "#ed7953"
             ],
             [
              0.7777777777777778,
              "#fb9f3a"
             ],
             [
              0.8888888888888888,
              "#fdca26"
             ],
             [
              1,
              "#f0f921"
             ]
            ],
            "type": "histogram2d"
           }
          ],
          "histogram2dcontour": [
           {
            "colorbar": {
             "outlinewidth": 0,
             "ticks": ""
            },
            "colorscale": [
             [
              0,
              "#0d0887"
             ],
             [
              0.1111111111111111,
              "#46039f"
             ],
             [
              0.2222222222222222,
              "#7201a8"
             ],
             [
              0.3333333333333333,
              "#9c179e"
             ],
             [
              0.4444444444444444,
              "#bd3786"
             ],
             [
              0.5555555555555556,
              "#d8576b"
             ],
             [
              0.6666666666666666,
              "#ed7953"
             ],
             [
              0.7777777777777778,
              "#fb9f3a"
             ],
             [
              0.8888888888888888,
              "#fdca26"
             ],
             [
              1,
              "#f0f921"
             ]
            ],
            "type": "histogram2dcontour"
           }
          ],
          "mesh3d": [
           {
            "colorbar": {
             "outlinewidth": 0,
             "ticks": ""
            },
            "type": "mesh3d"
           }
          ],
          "parcoords": [
           {
            "line": {
             "colorbar": {
              "outlinewidth": 0,
              "ticks": ""
             }
            },
            "type": "parcoords"
           }
          ],
          "pie": [
           {
            "automargin": true,
            "type": "pie"
           }
          ],
          "scatter": [
           {
            "marker": {
             "line": {
              "color": "#283442"
             }
            },
            "type": "scatter"
           }
          ],
          "scatter3d": [
           {
            "line": {
             "colorbar": {
              "outlinewidth": 0,
              "ticks": ""
             }
            },
            "marker": {
             "colorbar": {
              "outlinewidth": 0,
              "ticks": ""
             }
            },
            "type": "scatter3d"
           }
          ],
          "scattercarpet": [
           {
            "marker": {
             "colorbar": {
              "outlinewidth": 0,
              "ticks": ""
             }
            },
            "type": "scattercarpet"
           }
          ],
          "scattergeo": [
           {
            "marker": {
             "colorbar": {
              "outlinewidth": 0,
              "ticks": ""
             }
            },
            "type": "scattergeo"
           }
          ],
          "scattergl": [
           {
            "marker": {
             "line": {
              "color": "#283442"
             }
            },
            "type": "scattergl"
           }
          ],
          "scattermap": [
           {
            "marker": {
             "colorbar": {
              "outlinewidth": 0,
              "ticks": ""
             }
            },
            "type": "scattermap"
           }
          ],
          "scattermapbox": [
           {
            "marker": {
             "colorbar": {
              "outlinewidth": 0,
              "ticks": ""
             }
            },
            "type": "scattermapbox"
           }
          ],
          "scatterpolar": [
           {
            "marker": {
             "colorbar": {
              "outlinewidth": 0,
              "ticks": ""
             }
            },
            "type": "scatterpolar"
           }
          ],
          "scatterpolargl": [
           {
            "marker": {
             "colorbar": {
              "outlinewidth": 0,
              "ticks": ""
             }
            },
            "type": "scatterpolargl"
           }
          ],
          "scatterternary": [
           {
            "marker": {
             "colorbar": {
              "outlinewidth": 0,
              "ticks": ""
             }
            },
            "type": "scatterternary"
           }
          ],
          "surface": [
           {
            "colorbar": {
             "outlinewidth": 0,
             "ticks": ""
            },
            "colorscale": [
             [
              0,
              "#0d0887"
             ],
             [
              0.1111111111111111,
              "#46039f"
             ],
             [
              0.2222222222222222,
              "#7201a8"
             ],
             [
              0.3333333333333333,
              "#9c179e"
             ],
             [
              0.4444444444444444,
              "#bd3786"
             ],
             [
              0.5555555555555556,
              "#d8576b"
             ],
             [
              0.6666666666666666,
              "#ed7953"
             ],
             [
              0.7777777777777778,
              "#fb9f3a"
             ],
             [
              0.8888888888888888,
              "#fdca26"
             ],
             [
              1,
              "#f0f921"
             ]
            ],
            "type": "surface"
           }
          ],
          "table": [
           {
            "cells": {
             "fill": {
              "color": "#506784"
             },
             "line": {
              "color": "rgb(17,17,17)"
             }
            },
            "header": {
             "fill": {
              "color": "#2a3f5f"
             },
             "line": {
              "color": "rgb(17,17,17)"
             }
            },
            "type": "table"
           }
          ]
         },
         "layout": {
          "annotationdefaults": {
           "arrowcolor": "#f2f5fa",
           "arrowhead": 0,
           "arrowwidth": 1
          },
          "autotypenumbers": "strict",
          "coloraxis": {
           "colorbar": {
            "outlinewidth": 0,
            "ticks": ""
           }
          },
          "colorscale": {
           "diverging": [
            [
             0,
             "#8e0152"
            ],
            [
             0.1,
             "#c51b7d"
            ],
            [
             0.2,
             "#de77ae"
            ],
            [
             0.3,
             "#f1b6da"
            ],
            [
             0.4,
             "#fde0ef"
            ],
            [
             0.5,
             "#f7f7f7"
            ],
            [
             0.6,
             "#e6f5d0"
            ],
            [
             0.7,
             "#b8e186"
            ],
            [
             0.8,
             "#7fbc41"
            ],
            [
             0.9,
             "#4d9221"
            ],
            [
             1,
             "#276419"
            ]
           ],
           "sequential": [
            [
             0,
             "#0d0887"
            ],
            [
             0.1111111111111111,
             "#46039f"
            ],
            [
             0.2222222222222222,
             "#7201a8"
            ],
            [
             0.3333333333333333,
             "#9c179e"
            ],
            [
             0.4444444444444444,
             "#bd3786"
            ],
            [
             0.5555555555555556,
             "#d8576b"
            ],
            [
             0.6666666666666666,
             "#ed7953"
            ],
            [
             0.7777777777777778,
             "#fb9f3a"
            ],
            [
             0.8888888888888888,
             "#fdca26"
            ],
            [
             1,
             "#f0f921"
            ]
           ],
           "sequentialminus": [
            [
             0,
             "#0d0887"
            ],
            [
             0.1111111111111111,
             "#46039f"
            ],
            [
             0.2222222222222222,
             "#7201a8"
            ],
            [
             0.3333333333333333,
             "#9c179e"
            ],
            [
             0.4444444444444444,
             "#bd3786"
            ],
            [
             0.5555555555555556,
             "#d8576b"
            ],
            [
             0.6666666666666666,
             "#ed7953"
            ],
            [
             0.7777777777777778,
             "#fb9f3a"
            ],
            [
             0.8888888888888888,
             "#fdca26"
            ],
            [
             1,
             "#f0f921"
            ]
           ]
          },
          "colorway": [
           "#636efa",
           "#EF553B",
           "#00cc96",
           "#ab63fa",
           "#FFA15A",
           "#19d3f3",
           "#FF6692",
           "#B6E880",
           "#FF97FF",
           "#FECB52"
          ],
          "font": {
           "color": "#f2f5fa"
          },
          "geo": {
           "bgcolor": "rgb(17,17,17)",
           "lakecolor": "rgb(17,17,17)",
           "landcolor": "rgb(17,17,17)",
           "showlakes": true,
           "showland": true,
           "subunitcolor": "#506784"
          },
          "hoverlabel": {
           "align": "left"
          },
          "hovermode": "closest",
          "mapbox": {
           "style": "dark"
          },
          "paper_bgcolor": "rgb(17,17,17)",
          "plot_bgcolor": "rgb(17,17,17)",
          "polar": {
           "angularaxis": {
            "gridcolor": "#506784",
            "linecolor": "#506784",
            "ticks": ""
           },
           "bgcolor": "rgb(17,17,17)",
           "radialaxis": {
            "gridcolor": "#506784",
            "linecolor": "#506784",
            "ticks": ""
           }
          },
          "scene": {
           "xaxis": {
            "backgroundcolor": "rgb(17,17,17)",
            "gridcolor": "#506784",
            "gridwidth": 2,
            "linecolor": "#506784",
            "showbackground": true,
            "ticks": "",
            "zerolinecolor": "#C8D4E3"
           },
           "yaxis": {
            "backgroundcolor": "rgb(17,17,17)",
            "gridcolor": "#506784",
            "gridwidth": 2,
            "linecolor": "#506784",
            "showbackground": true,
            "ticks": "",
            "zerolinecolor": "#C8D4E3"
           },
           "zaxis": {
            "backgroundcolor": "rgb(17,17,17)",
            "gridcolor": "#506784",
            "gridwidth": 2,
            "linecolor": "#506784",
            "showbackground": true,
            "ticks": "",
            "zerolinecolor": "#C8D4E3"
           }
          },
          "shapedefaults": {
           "line": {
            "color": "#f2f5fa"
           }
          },
          "sliderdefaults": {
           "bgcolor": "#C8D4E3",
           "bordercolor": "rgb(17,17,17)",
           "borderwidth": 1,
           "tickwidth": 0
          },
          "ternary": {
           "aaxis": {
            "gridcolor": "#506784",
            "linecolor": "#506784",
            "ticks": ""
           },
           "baxis": {
            "gridcolor": "#506784",
            "linecolor": "#506784",
            "ticks": ""
           },
           "bgcolor": "rgb(17,17,17)",
           "caxis": {
            "gridcolor": "#506784",
            "linecolor": "#506784",
            "ticks": ""
           }
          },
          "title": {
           "x": 0.05
          },
          "updatemenudefaults": {
           "bgcolor": "#506784",
           "borderwidth": 0
          },
          "xaxis": {
           "automargin": true,
           "gridcolor": "#283442",
           "linecolor": "#506784",
           "ticks": "",
           "title": {
            "standoff": 15
           },
           "zerolinecolor": "#283442",
           "zerolinewidth": 2
          },
          "yaxis": {
           "automargin": true,
           "gridcolor": "#283442",
           "linecolor": "#506784",
           "ticks": "",
           "title": {
            "standoff": 15
           },
           "zerolinecolor": "#283442",
           "zerolinewidth": 2
          }
         }
        },
        "title": {
         "text": "Comparación de RMSE por Modelo"
        },
        "xaxis": {
         "anchor": "y",
         "domain": [
          0,
          1
         ],
         "title": {
          "text": "RMSE ($)"
         }
        },
        "yaxis": {
         "anchor": "x",
         "categoryarray": [
          "XGBoost",
          "Random Forest",
          "Ridge Regression"
         ],
         "categoryorder": "array",
         "domain": [
          0,
          1
         ],
         "title": {
          "text": "Modelo"
         }
        }
       }
      }
     },
     "metadata": {},
     "output_type": "display_data"
    }
   ],
   "source": [
    "# --- Comparación de Modelos ---\n",
    "# Crear DataFrame para comparar los modelos\n",
    "models = pd.DataFrame({\n",
    "    'Model': ['Ridge Regression', 'Random Forest', 'XGBoost'],\n",
    "    'RMSE': [rmse_lr, rmse_rf, rmse_xgb],\n",
    "    'MAE': [mae_lr, mae_rf, mae_xgb],\n",
    "    'R²': [r2_lr, r2_rf, r2_xgb]\n",
    "})\n",
    "\n",
    "print(\"\\nTabla Comparativa de Métricas:\")\n",
    "print(models.to_string())\n",
    "\n",
    "# Gráfico de Barras para R²\n",
    "fig_r2 = px.bar(models.sort_values('R²', ascending=True),\n",
    "                x='R²', y='Model', color='Model',\n",
    "                template='plotly_dark', title='Comparación de R² por Modelo',\n",
    "                text='R²',\n",
    "                labels={'R²': 'R² Score', 'Model': 'Modelo'})\n",
    "fig_r2.update_traces(texttemplate='%{text:.3f}', textposition='outside')\n",
    "fig_r2.update_layout(xaxis=dict(range=[0, 1]))\n",
    "fig_r2.show()\n",
    "\n",
    "# Gráfico de Barras para RMSE\n",
    "fig_rmse = px.bar(models.sort_values('RMSE', ascending=False),\n",
    "                  x='RMSE', y='Model', color='Model',\n",
    "                  template='plotly_dark', title='Comparación de RMSE por Modelo',\n",
    "                  text='RMSE',\n",
    "                  labels={'RMSE': 'RMSE ($)', 'Model': 'Modelo'})\n",
    "fig_rmse.update_traces(texttemplate='$%{text:,.0f}', textposition='outside')\n",
    "fig_rmse.show()"
   ]
  },
  {
   "cell_type": "code",
   "execution_count": null,
   "id": "9da0ab46",
   "metadata": {},
   "outputs": [
    {
     "name": "stdout",
     "output_type": "stream",
     "text": [
      "\\n--- Mejor Modelo según Criterio AIC ---\n",
      "Variables: ('Store_Tier_Bajo', 'Store_Tier_Medio')\n",
      "AIC: 178679.79\n",
      "\\n--- Mejor Modelo según Criterio R-cuadrado ---\n",
      "Variables: ('Store_Tier_Bajo', 'Store_Tier_Medio')\n",
      "R²: 0.790\n"
     ]
    }
   ],
   "source": [
    "predictors = X_OLS.columns.drop('const')\n",
    "\n",
    "# Almacenar resultados\n",
    "results_aic = []\n",
    "results_r2 = []\n",
    "\n",
    "# Iterar sobre todas las combinaciones de 2 variables\n",
    "for combo in itertools.combinations(predictors, 2):\n",
    "    X_subset = X_OLS[['const'] + list(combo)]\n",
    "    model_subset = sm.OLS(y, X_subset).fit()\n",
    "    results_aic.append((combo, model_subset.aic))\n",
    "    results_r2.append((combo, model_subset.rsquared))\n",
    "\n",
    "# --- Criterio AIC ---\n",
    "best_model_aic = min(results_aic, key=lambda item: item[1])\n",
    "print(\"\\\\n--- Mejor Modelo según Criterio AIC ---\")\n",
    "print(f\"Variables: {best_model_aic[0]}\")\n",
    "print(f\"AIC: {best_model_aic[1]:.2f}\")\n",
    "\n",
    "# --- Criterio R-cuadrado ---\n",
    "best_model_r2 = max(results_r2, key=lambda item: item[1])\n",
    "print(\"\\\\n--- Mejor Modelo según Criterio R-cuadrado ---\")\n",
    "print(f\"Variables: {best_model_r2[0]}\")\n",
    "print(f\"R²: {best_model_r2[1]:.3f}\")"
   ]
  },
  {
   "cell_type": "code",
   "execution_count": 44,
   "id": "1447ba53",
   "metadata": {},
   "outputs": [
    {
     "name": "stdout",
     "output_type": "stream",
     "text": [
      "\\n--- Prueba de Homocedasticidad (Breusch-Pagan) ---\n",
      "P-valor de la prueba: 0.0000\n",
      "Conclusión: Se rechaza la hipótesis nula. Hay evidencia de heterocedasticidad.\n"
     ]
    }
   ],
   "source": [
    "# Realizar la prueba de Breusch-Pagan con los residuos del modelo completo\n",
    "bp_test = het_breuschpagan(model_ols.resid, model_ols.model.exog)\n",
    "\n",
    "labels = ['Lagrange multiplier statistic', 'p-value', 'f-value', 'f p-value']\n",
    "results = dict(zip(labels, bp_test))\n",
    "\n",
    "print(\"\\\\n--- Prueba de Homocedasticidad (Breusch-Pagan) ---\")\n",
    "print(f\"P-valor de la prueba: {results['p-value']:.4f}\")\n",
    "\n",
    "if results['p-value'] < 0.05:\n",
    "    print(\"Conclusión: Se rechaza la hipótesis nula. Hay evidencia de heterocedasticidad.\")\n",
    "else:\n",
    "    print(\"Conclusión: No se rechaza la hipótesis nula. No hay evidencia de heterocedasticidad.\")"
   ]
  }
 ],
 "metadata": {
  "kernelspec": {
   "display_name": "Python 3",
   "language": "python",
   "name": "python3"
  },
  "language_info": {
   "codemirror_mode": {
    "name": "ipython",
    "version": 3
   },
   "file_extension": ".py",
   "mimetype": "text/x-python",
   "name": "python",
   "nbconvert_exporter": "python",
   "pygments_lexer": "ipython3",
   "version": "3.11.9"
  }
 },
 "nbformat": 4,
 "nbformat_minor": 5
}
